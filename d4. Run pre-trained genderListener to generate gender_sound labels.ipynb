{
 "cells": [
  {
   "cell_type": "markdown",
   "metadata": {},
   "source": [
    "# Add gender_sound labels to data\n",
    "\n",
    "Now that we have all the metadata and audio features together, we can simply run this data through the already-trained genderListener classifier model.\n",
    "\n",
    "The pickled implementation of gender_listener is a logistic regression binary classifier trained on 1,096 TED talks. The male/female labels used to train gender_listener come from using gender_guesser, which assigns male/female labels based on the main speaker's first name. \n",
    "\n",
    "Note that some of the talks in this dataset are by multiple speakers and some are musical performances rather than pure speech. Gender_listener will assign a label based on the audio features in the data, which come from the 240-second audio segments (the values are the averages of 10 subsamples). \n",
    "\n",
    "You can use pyAudioAnalysis and the code in notebooks d1 and d2 to extract different samples from the TED audio or from any other audio files."
   ]
  },
  {
   "cell_type": "code",
   "execution_count": 36,
   "metadata": {
    "collapsed": true
   },
   "outputs": [],
   "source": [
    "# Import common python library\n",
    "import math\n",
    "from collections import OrderedDict\n",
    "\n",
    "# Import numpy library\n",
    "import numpy as np\n",
    "\n",
    "# Import matplotlib library\n",
    "import matplotlib.pyplot as plt\n",
    "\n",
    "from matplotlib import colors\n",
    "\n",
    "# Import pandas library\n",
    "import pandas as pd\n",
    "\n",
    "# Import scikit-learn library\n",
    "from sklearn.externals import joblib\n",
    "\n",
    "% matplotlib inline\n",
    "\n",
    "from IPython.core.display import display, HTML\n",
    "pd.set_option('display.max_colwidth', -1)  # to fix problem with html for long urls not showing up\n"
   ]
  },
  {
   "cell_type": "code",
   "execution_count": 26,
   "metadata": {},
   "outputs": [
    {
     "name": "stdout",
     "output_type": "stream",
     "text": [
      "(1331, 86)\n"
     ]
    },
    {
     "data": {
      "text/plain": [
       "Index(['comments', 'description', 'duration', 'event', 'film_date',\n",
       "       'languages', 'main_speaker', 'name', 'num_speaker', 'published_date',\n",
       "       'ratings', 'related_talks', 'speaker_occupation', 'tags', 'title',\n",
       "       'url', 'views', 'link', 'annualTED', 'film_year', 'published_year',\n",
       "       'num_speaker_talks', 'technology', 'science', 'global issues',\n",
       "       'culture', 'design', 'business', 'entertainment', 'health',\n",
       "       'innovation', 'society', 'Fascinating', 'Courageous', 'Longwinded',\n",
       "       'Obnoxious', 'Jaw-dropping', 'Inspiring', 'OK', 'Beautiful', 'Funny',\n",
       "       'Unconvincing', 'Ingenious', 'Informative', 'Confusing', 'Persuasive',\n",
       "       'wpm', 'words_per_min', 'first_name', 'gender_name',\n",
       "       'gender_name_class', 'fileName', 'ZCR', 'Energy', 'EnergyEntropy',\n",
       "       'SpectralCentroid', 'SpectralSpread', 'SpectralEntropy', 'SpectralFlux',\n",
       "       'SpectralRollof', 'mfcc1', 'mfcc2', 'mfcc3', 'mfcc4', 'mfccC5', 'mfcc6',\n",
       "       'mfcc7', 'mfcc8', 'mfcc9', 'mfcc10', 'mfcc11', 'mfcc12', 'mfcc13',\n",
       "       'Chroma1', 'Chroma2', 'Chroma3', 'Chroma4', 'Chroma5', 'Chroma6',\n",
       "       'Chroma7', 'Chroma8', 'Chroma9', 'Chroma10', 'Chroma11', 'Chroma12',\n",
       "       'Chroma_std'],\n",
       "      dtype='object')"
      ]
     },
     "execution_count": 26,
     "metadata": {},
     "output_type": "execute_result"
    }
   ],
   "source": [
    "# Upload metadata\n",
    "df = pd.read_csv('data/meta_audio.csv', index_col = 0)\n",
    "print(df.shape)\n",
    "df.columns"
   ]
  },
  {
   "cell_type": "code",
   "execution_count": 27,
   "metadata": {
    "collapsed": true
   },
   "outputs": [],
   "source": [
    "audioCols = ['ZCR', 'Energy', 'EnergyEntropy',\n",
    "       'SpectralCentroid', 'SpectralSpread', 'SpectralEntropy', 'SpectralFlux',\n",
    "       'SpectralRollof', 'mfcc1', 'mfcc2', 'mfcc3', 'mfcc4', 'mfccC5', 'mfcc6',\n",
    "       'mfcc7', 'mfcc8', 'mfcc9', 'mfcc10', 'mfcc11', 'mfcc12', 'mfcc13',\n",
    "       'Chroma1', 'Chroma2', 'Chroma3', 'Chroma4', 'Chroma5', 'Chroma6',\n",
    "       'Chroma7', 'Chroma8', 'Chroma9', 'Chroma10', 'Chroma11', 'Chroma12',\n",
    "       'Chroma_std']"
   ]
  },
  {
   "cell_type": "markdown",
   "metadata": {},
   "source": [
    "## upload already-trained genderListener"
   ]
  },
  {
   "cell_type": "code",
   "execution_count": 28,
   "metadata": {},
   "outputs": [],
   "source": [
    "log = joblib.load('models/genderListener.pkl')"
   ]
  },
  {
   "cell_type": "code",
   "execution_count": 29,
   "metadata": {
    "collapsed": true
   },
   "outputs": [],
   "source": [
    "# Generate labels for all the talks that have audio features\n",
    "# Note that these labels are only as valid as the audio features\n",
    "# For example, if the audio features were taken from 4 minutes of audio containing multiple speakers,\n",
    "# then the gender labels will not be valid.\n",
    "\n",
    "X_allTalks = df[audioCols]"
   ]
  },
  {
   "cell_type": "code",
   "execution_count": 30,
   "metadata": {
    "collapsed": true
   },
   "outputs": [],
   "source": [
    "genderListenerLabels = log.predict(X_allTalks)"
   ]
  },
  {
   "cell_type": "code",
   "execution_count": 31,
   "metadata": {},
   "outputs": [
    {
     "name": "stdout",
     "output_type": "stream",
     "text": [
      "1331\n"
     ]
    }
   ],
   "source": [
    "print(len(genderListenerLabels))"
   ]
  },
  {
   "cell_type": "markdown",
   "metadata": {},
   "source": [
    "# Add genderListener labels to rest of data"
   ]
  },
  {
   "cell_type": "code",
   "execution_count": 32,
   "metadata": {},
   "outputs": [
    {
     "data": {
      "text/plain": [
       "50"
      ]
     },
     "execution_count": 32,
     "metadata": {},
     "output_type": "execute_result"
    }
   ],
   "source": [
    "labels = ['male' if item == 0 else 'female' for item in genderListenerLabels]\n",
    "col_index = df.columns.get_loc('gender_name')+1\n",
    "col_index"
   ]
  },
  {
   "cell_type": "code",
   "execution_count": 33,
   "metadata": {
    "collapsed": true
   },
   "outputs": [],
   "source": [
    "df.insert(col_index, 'gender_sound', labels)"
   ]
  },
  {
   "cell_type": "code",
   "execution_count": 37,
   "metadata": {},
   "outputs": [
    {
     "data": {
      "text/html": [
       "<table border=\"1\" class=\"dataframe\">\n",
       "  <thead>\n",
       "    <tr style=\"text-align: right;\">\n",
       "      <th></th>\n",
       "      <th>first_name</th>\n",
       "      <th>gender_name</th>\n",
       "      <th>gender_sound</th>\n",
       "      <th>link</th>\n",
       "    </tr>\n",
       "  </thead>\n",
       "  <tbody>\n",
       "    <tr>\n",
       "      <th>0</th>\n",
       "      <td>Al</td>\n",
       "      <td>male</td>\n",
       "      <td>male</td>\n",
       "      <td><a href=\"https://www.ted.com/talks/al_gore_on_averting_climate_crisis\" target=\"_blank\">link</a></td>\n",
       "    </tr>\n",
       "    <tr>\n",
       "      <th>1</th>\n",
       "      <td>David</td>\n",
       "      <td>male</td>\n",
       "      <td>male</td>\n",
       "      <td><a href=\"https://www.ted.com/talks/david_pogue_says_simplicity_sells\" target=\"_blank\">link</a></td>\n",
       "    </tr>\n",
       "    <tr>\n",
       "      <th>2</th>\n",
       "      <td>Majora</td>\n",
       "      <td>unknown</td>\n",
       "      <td>female</td>\n",
       "      <td><a href=\"https://www.ted.com/talks/majora_carter_s_tale_of_urban_renewal\" target=\"_blank\">link</a></td>\n",
       "    </tr>\n",
       "    <tr>\n",
       "      <th>3</th>\n",
       "      <td>Hans</td>\n",
       "      <td>male</td>\n",
       "      <td>male</td>\n",
       "      <td><a href=\"https://www.ted.com/talks/hans_rosling_shows_the_best_stats_you_ve_ever_seen\" target=\"_blank\">link</a></td>\n",
       "    </tr>\n",
       "    <tr>\n",
       "      <th>4</th>\n",
       "      <td>Tony</td>\n",
       "      <td>male</td>\n",
       "      <td>male</td>\n",
       "      <td><a href=\"https://www.ted.com/talks/tony_robbins_asks_why_we_do_what_we_do\" target=\"_blank\">link</a></td>\n",
       "    </tr>\n",
       "    <tr>\n",
       "      <th>5</th>\n",
       "      <td>Julia</td>\n",
       "      <td>female</td>\n",
       "      <td>female</td>\n",
       "      <td><a href=\"https://www.ted.com/talks/julia_sweeney_on_letting_go_of_god\" target=\"_blank\">link</a></td>\n",
       "    </tr>\n",
       "    <tr>\n",
       "      <th>6</th>\n",
       "      <td>Dan</td>\n",
       "      <td>male</td>\n",
       "      <td>male</td>\n",
       "      <td><a href=\"https://www.ted.com/talks/dan_dennett_s_response_to_rick_warren\" target=\"_blank\">link</a></td>\n",
       "    </tr>\n",
       "    <tr>\n",
       "      <th>7</th>\n",
       "      <td>Rick</td>\n",
       "      <td>male</td>\n",
       "      <td>male</td>\n",
       "      <td><a href=\"https://www.ted.com/talks/rick_warren_on_a_life_of_purpose\" target=\"_blank\">link</a></td>\n",
       "    </tr>\n",
       "    <tr>\n",
       "      <th>8</th>\n",
       "      <td>Cameron</td>\n",
       "      <td>mostly_male</td>\n",
       "      <td>male</td>\n",
       "      <td><a href=\"https://www.ted.com/talks/cameron_sinclair_on_open_source_architecture\" target=\"_blank\">link</a></td>\n",
       "    </tr>\n",
       "    <tr>\n",
       "      <th>9</th>\n",
       "      <td>Jehane</td>\n",
       "      <td>unknown</td>\n",
       "      <td>female</td>\n",
       "      <td><a href=\"https://www.ted.com/talks/jehane_noujaim_inspires_a_global_day_of_film\" target=\"_blank\">link</a></td>\n",
       "    </tr>\n",
       "  </tbody>\n",
       "</table>"
      ],
      "text/plain": [
       "<IPython.core.display.HTML object>"
      ]
     },
     "metadata": {},
     "output_type": "display_data"
    }
   ],
   "source": [
    "# inspect\n",
    "dftemp = df[['first_name','gender_name','gender_sound','link']][0:10]\n",
    "display(HTML(dftemp.to_html(escape=False)))  # Note: requires pd.set_option('display.max_colwidth', -1)"
   ]
  },
  {
   "cell_type": "code",
   "execution_count": 41,
   "metadata": {},
   "outputs": [
    {
     "data": {
      "text/plain": [
       "Index(['comments', 'description', 'duration', 'event', 'film_date',\n",
       "       'languages', 'main_speaker', 'name', 'num_speaker', 'published_date',\n",
       "       'ratings', 'related_talks', 'speaker_occupation', 'tags', 'title',\n",
       "       'url', 'views', 'link', 'annualTED', 'film_year', 'published_year',\n",
       "       'num_speaker_talks', 'technology', 'science', 'global issues',\n",
       "       'culture', 'design', 'business', 'entertainment', 'health',\n",
       "       'innovation', 'society', 'Fascinating', 'Courageous', 'Longwinded',\n",
       "       'Obnoxious', 'Jaw-dropping', 'Inspiring', 'OK', 'Beautiful', 'Funny',\n",
       "       'Unconvincing', 'Ingenious', 'Informative', 'Confusing', 'Persuasive',\n",
       "       'wpm', 'words_per_min', 'first_name', 'gender_name', 'gender_sound',\n",
       "       'gender_name_class', 'fileName'],\n",
       "      dtype='object')"
      ]
     },
     "execution_count": 41,
     "metadata": {},
     "output_type": "execute_result"
    }
   ],
   "source": [
    "df.columns[:53]"
   ]
  },
  {
   "cell_type": "code",
   "execution_count": 42,
   "metadata": {},
   "outputs": [
    {
     "data": {
      "text/plain": [
       "Index(['ZCR', 'Energy', 'EnergyEntropy', 'SpectralCentroid', 'SpectralSpread',\n",
       "       'SpectralEntropy', 'SpectralFlux', 'SpectralRollof', 'mfcc1', 'mfcc2',\n",
       "       'mfcc3', 'mfcc4', 'mfccC5', 'mfcc6', 'mfcc7', 'mfcc8', 'mfcc9',\n",
       "       'mfcc10', 'mfcc11', 'mfcc12', 'mfcc13', 'Chroma1', 'Chroma2', 'Chroma3',\n",
       "       'Chroma4', 'Chroma5', 'Chroma6', 'Chroma7', 'Chroma8', 'Chroma9',\n",
       "       'Chroma10', 'Chroma11', 'Chroma12', 'Chroma_std'],\n",
       "      dtype='object')"
      ]
     },
     "execution_count": 42,
     "metadata": {},
     "output_type": "execute_result"
    }
   ],
   "source": [
    "df.columns[53:]"
   ]
  },
  {
   "cell_type": "markdown",
   "metadata": {},
   "source": [
    "## Write to file"
   ]
  },
  {
   "cell_type": "code",
   "execution_count": 43,
   "metadata": {
    "collapsed": true
   },
   "outputs": [],
   "source": [
    "df.to_csv('data/ted_plus.csv')"
   ]
  }
 ],
 "metadata": {
  "kernelspec": {
   "display_name": "Python 3",
   "language": "python",
   "name": "python3"
  },
  "language_info": {
   "codemirror_mode": {
    "name": "ipython",
    "version": 3
   },
   "file_extension": ".py",
   "mimetype": "text/x-python",
   "name": "python",
   "nbconvert_exporter": "python",
   "pygments_lexer": "ipython3",
   "version": "3.6.3"
  },
  "toc": {
   "nav_menu": {},
   "number_sections": true,
   "sideBar": true,
   "skip_h1_title": false,
   "title_cell": "Table of Contents",
   "title_sidebar": "Contents",
   "toc_cell": false,
   "toc_position": {},
   "toc_section_display": true,
   "toc_window_display": false
  }
 },
 "nbformat": 4,
 "nbformat_minor": 2
}
