{
 "cells": [
  {
   "cell_type": "markdown",
   "metadata": {},
   "source": [
    "# Exploratory Analysis of metadata, data cleaning, and new feature creation"
   ]
  },
  {
   "cell_type": "markdown",
   "metadata": {},
   "source": [
    "Purpose of this notebook:\n",
    "1. Explore the many features of TED talks using the *full* metadata dataset. \n",
    "1. Create new features based on tags and ratings\n",
    "1. Fix formats, remove incomplete or low-quality data\n",
    "1. Write the new version of full metadata to csv file  \n"
   ]
  },
  {
   "cell_type": "markdown",
   "metadata": {},
   "source": [
    "## Original Features Available\n",
    "\n",
    "* **name:** The official name of the TED Talk. Includes the title and the speaker.\n",
    "* **title:** The title of the talk\n",
    "* **description:** A blurb of what the talk is about.\n",
    "* **main_speaker:** The first named speaker of the talk.\n",
    "* **speaker_occupation:** The occupation of the main speaker.\n",
    "* **num_speaker:** The number of speakers in the talk.\n",
    "* **duration:** The duration of the talk in seconds.\n",
    "* **event:** The TED/TEDx event where the talk took place.\n",
    "* **film_date:** The Unix timestamp of the filming.\n",
    "* **published_date:** The Unix timestamp for the publication of the talk on TED.com\n",
    "* **comments:** The number of first level comments made on the talk.\n",
    "* **tags:** The themes associated with the talk.\n",
    "* **languages:** The number of languages in which the talk is available.\n",
    "* **ratings:** A stringified dictionary of the various ratings given to the talk (inspiring, fascinating, jaw dropping, etc.)\n",
    "* **related_talks:** A list of dictionaries of recommended talks to watch next.\n",
    "* **url:** The URL of the talk.\n",
    "* **views:** The number of views on the talk."
   ]
  },
  {
   "cell_type": "code",
   "execution_count": 272,
   "metadata": {},
   "outputs": [],
   "source": [
    "%matplotlib inline\n",
    "import pandas as pd\n",
    "import numpy as np\n",
    "from scipy import stats\n",
    "import matplotlib.pyplot as plt\n",
    "import seaborn as sns\n",
    "import datetime\n",
    "import ast\n",
    "from math import log\n",
    "from operator import itemgetter\n",
    "from collections import OrderedDict\n",
    "import aux_code.functions as mfc\n",
    "import gender_guesser.detector as gender\n",
    "\n",
    "from IPython.core.display import display, HTML\n",
    "pd.set_option('display.max_colwidth', -1)  # to fix problem with html for long urls not showing up\n",
    "\n",
    "import warnings\n",
    "warnings.filterwarnings(\"ignore\", category=FutureWarning)\n",
    "\n",
    "pd.set_option('display.max_rows', 20)"
   ]
  },
  {
   "cell_type": "code",
   "execution_count": 273,
   "metadata": {},
   "outputs": [
    {
     "name": "stdout",
     "output_type": "stream",
     "text": [
      "comments, description, duration, event, film_date, languages, main_speaker, name, num_speaker, published_date, ratings, related_talks, speaker_occupation, tags, title, url, views\n"
     ]
    },
    {
     "data": {
      "text/plain": [
       "(2550, 17)"
      ]
     },
     "execution_count": 273,
     "metadata": {},
     "output_type": "execute_result"
    }
   ],
   "source": [
    "# Read metadata from ted_main\n",
    "df = pd.read_csv('data/ted-talks/ted_main.csv')\n",
    "print(*df.columns, sep=', ')\n",
    "df.shape"
   ]
  },
  {
   "cell_type": "code",
   "execution_count": 274,
   "metadata": {
    "collapsed": true
   },
   "outputs": [],
   "source": [
    "# name index column\n",
    "df.index.name = 'Id'"
   ]
  },
  {
   "cell_type": "markdown",
   "metadata": {},
   "source": [
    "## HTML links based on urls"
   ]
  },
  {
   "cell_type": "code",
   "execution_count": 275,
   "metadata": {},
   "outputs": [],
   "source": [
    "# tidy up urls by removing trailing '\\n'\n",
    "df['url'] = df['url'].apply(lambda x: x.replace('\\n',''))"
   ]
  },
  {
   "cell_type": "code",
   "execution_count": 276,
   "metadata": {},
   "outputs": [
    {
     "data": {
      "text/html": [
       "<table border=\"1\" class=\"dataframe\">\n",
       "  <thead>\n",
       "    <tr style=\"text-align: right;\">\n",
       "      <th></th>\n",
       "      <th>title</th>\n",
       "      <th>duration</th>\n",
       "      <th>event</th>\n",
       "      <th>link</th>\n",
       "    </tr>\n",
       "    <tr>\n",
       "      <th>Id</th>\n",
       "      <th></th>\n",
       "      <th></th>\n",
       "      <th></th>\n",
       "      <th></th>\n",
       "    </tr>\n",
       "  </thead>\n",
       "  <tbody>\n",
       "    <tr>\n",
       "      <th>0</th>\n",
       "      <td>Do schools kill creativity?</td>\n",
       "      <td>1164</td>\n",
       "      <td>TED2006</td>\n",
       "      <td><a href=\"https://www.ted.com/talks/ken_robinson_says_schools_kill_creativity\" target=\"_blank\">link</a></td>\n",
       "    </tr>\n",
       "    <tr>\n",
       "      <th>1</th>\n",
       "      <td>Averting the climate crisis</td>\n",
       "      <td>977</td>\n",
       "      <td>TED2006</td>\n",
       "      <td><a href=\"https://www.ted.com/talks/al_gore_on_averting_climate_crisis\" target=\"_blank\">link</a></td>\n",
       "    </tr>\n",
       "    <tr>\n",
       "      <th>2</th>\n",
       "      <td>Simplicity sells</td>\n",
       "      <td>1286</td>\n",
       "      <td>TED2006</td>\n",
       "      <td><a href=\"https://www.ted.com/talks/david_pogue_says_simplicity_sells\" target=\"_blank\">link</a></td>\n",
       "    </tr>\n",
       "    <tr>\n",
       "      <th>3</th>\n",
       "      <td>Greening the ghetto</td>\n",
       "      <td>1116</td>\n",
       "      <td>TED2006</td>\n",
       "      <td><a href=\"https://www.ted.com/talks/majora_carter_s_tale_of_urban_renewal\" target=\"_blank\">link</a></td>\n",
       "    </tr>\n",
       "    <tr>\n",
       "      <th>4</th>\n",
       "      <td>The best stats you've ever seen</td>\n",
       "      <td>1190</td>\n",
       "      <td>TED2006</td>\n",
       "      <td><a href=\"https://www.ted.com/talks/hans_rosling_shows_the_best_stats_you_ve_ever_seen\" target=\"_blank\">link</a></td>\n",
       "    </tr>\n",
       "  </tbody>\n",
       "</table>"
      ],
      "text/plain": [
       "<IPython.core.display.HTML object>"
      ]
     },
     "metadata": {},
     "output_type": "display_data"
    }
   ],
   "source": [
    "# create new column 'link' using html to display url as a link so that I can inspect talks\n",
    "# dfHtmlObj = df.to_html() creates an html object, (no longer a df) \n",
    "# that will look like a df if displayed with display(HTML(dfHtmlObj))\n",
    "\n",
    "df['link'] = df['url'].apply(lambda x: '<a href=\"'+x+'\" target=\"_blank\">link</a>')\n",
    "\n",
    "# Example of how to display\n",
    "dftemp = df[['title','duration','event','link']].head(5)\n",
    "display(HTML(dftemp.to_html(escape=False)))  # Note: requires pd.set_option('display.max_colwidth', -1)"
   ]
  },
  {
   "cell_type": "markdown",
   "metadata": {},
   "source": [
    "## Most Viewed talks\n",
    "\n",
    "What are the **most viewed talks**?\n",
    "\n",
    "Insights: \n",
    "1. Many of these talks are by celebrity speakers\n",
    "2. These have between 16 and 47 Million views"
   ]
  },
  {
   "cell_type": "code",
   "execution_count": 277,
   "metadata": {},
   "outputs": [
    {
     "data": {
      "text/html": [
       "<div>\n",
       "<style scoped>\n",
       "    .dataframe tbody tr th:only-of-type {\n",
       "        vertical-align: middle;\n",
       "    }\n",
       "\n",
       "    .dataframe tbody tr th {\n",
       "        vertical-align: top;\n",
       "    }\n",
       "\n",
       "    .dataframe thead th {\n",
       "        text-align: right;\n",
       "    }\n",
       "</style>\n",
       "<table border=\"1\" class=\"dataframe\">\n",
       "  <thead>\n",
       "    <tr style=\"text-align: right;\">\n",
       "      <th></th>\n",
       "      <th>title</th>\n",
       "      <th>main_speaker</th>\n",
       "      <th>views</th>\n",
       "      <th>film_date</th>\n",
       "    </tr>\n",
       "    <tr>\n",
       "      <th>Id</th>\n",
       "      <th></th>\n",
       "      <th></th>\n",
       "      <th></th>\n",
       "      <th></th>\n",
       "    </tr>\n",
       "  </thead>\n",
       "  <tbody>\n",
       "    <tr>\n",
       "      <th>0</th>\n",
       "      <td>Do schools kill creativity?</td>\n",
       "      <td>Ken Robinson</td>\n",
       "      <td>47227110</td>\n",
       "      <td>1140825600</td>\n",
       "    </tr>\n",
       "    <tr>\n",
       "      <th>1346</th>\n",
       "      <td>Your body language may shape who you are</td>\n",
       "      <td>Amy Cuddy</td>\n",
       "      <td>43155405</td>\n",
       "      <td>1340668800</td>\n",
       "    </tr>\n",
       "    <tr>\n",
       "      <th>677</th>\n",
       "      <td>How great leaders inspire action</td>\n",
       "      <td>Simon Sinek</td>\n",
       "      <td>34309432</td>\n",
       "      <td>1253145600</td>\n",
       "    </tr>\n",
       "    <tr>\n",
       "      <th>837</th>\n",
       "      <td>The power of vulnerability</td>\n",
       "      <td>Brené Brown</td>\n",
       "      <td>31168150</td>\n",
       "      <td>1275782400</td>\n",
       "    </tr>\n",
       "    <tr>\n",
       "      <th>452</th>\n",
       "      <td>10 things you didn't know about orgasm</td>\n",
       "      <td>Mary Roach</td>\n",
       "      <td>22270883</td>\n",
       "      <td>1233878400</td>\n",
       "    </tr>\n",
       "    <tr>\n",
       "      <th>1776</th>\n",
       "      <td>How to speak so that people want to listen</td>\n",
       "      <td>Julian Treasure</td>\n",
       "      <td>21594632</td>\n",
       "      <td>1370822400</td>\n",
       "    </tr>\n",
       "    <tr>\n",
       "      <th>201</th>\n",
       "      <td>My stroke of insight</td>\n",
       "      <td>Jill Bolte Taylor</td>\n",
       "      <td>21190883</td>\n",
       "      <td>1204070400</td>\n",
       "    </tr>\n",
       "    <tr>\n",
       "      <th>5</th>\n",
       "      <td>Why we do what we do</td>\n",
       "      <td>Tony Robbins</td>\n",
       "      <td>20685401</td>\n",
       "      <td>1138838400</td>\n",
       "    </tr>\n",
       "    <tr>\n",
       "      <th>2114</th>\n",
       "      <td>This is what happens when you reply to spam email</td>\n",
       "      <td>James Veitch</td>\n",
       "      <td>20475972</td>\n",
       "      <td>1449532800</td>\n",
       "    </tr>\n",
       "    <tr>\n",
       "      <th>1416</th>\n",
       "      <td>Looks aren't everything. Believe me, I'm a model.</td>\n",
       "      <td>Cameron Russell</td>\n",
       "      <td>19787465</td>\n",
       "      <td>1351296000</td>\n",
       "    </tr>\n",
       "  </tbody>\n",
       "</table>\n",
       "</div>"
      ],
      "text/plain": [
       "                                                  title       main_speaker  \\\n",
       "Id                                                                           \n",
       "0     Do schools kill creativity?                        Ken Robinson        \n",
       "1346  Your body language may shape who you are           Amy Cuddy           \n",
       "677   How great leaders inspire action                   Simon Sinek         \n",
       "837   The power of vulnerability                         Brené Brown         \n",
       "452   10 things you didn't know about orgasm             Mary Roach          \n",
       "1776  How to speak so that people want to listen         Julian Treasure     \n",
       "201   My stroke of insight                               Jill Bolte Taylor   \n",
       "5     Why we do what we do                               Tony Robbins        \n",
       "2114  This is what happens when you reply to spam email  James Veitch        \n",
       "1416  Looks aren't everything. Believe me, I'm a model.  Cameron Russell     \n",
       "\n",
       "         views   film_date  \n",
       "Id                          \n",
       "0     47227110  1140825600  \n",
       "1346  43155405  1340668800  \n",
       "677   34309432  1253145600  \n",
       "837   31168150  1275782400  \n",
       "452   22270883  1233878400  \n",
       "1776  21594632  1370822400  \n",
       "201   21190883  1204070400  \n",
       "5     20685401  1138838400  \n",
       "2114  20475972  1449532800  \n",
       "1416  19787465  1351296000  "
      ]
     },
     "execution_count": 277,
     "metadata": {},
     "output_type": "execute_result"
    }
   ],
   "source": [
    "# Average number of views of top 10:\n",
    "most_viewed = df[['title', 'main_speaker', 'views', 'film_date']].sort_values('views', ascending=False)[:15]\n",
    "most_viewed[0:10]"
   ]
  },
  {
   "cell_type": "code",
   "execution_count": 278,
   "metadata": {},
   "outputs": [
    {
     "data": {
      "text/plain": [
       "count    2.550000e+03\n",
       "mean     1.698297e+06\n",
       "std      2.498479e+06\n",
       "min      5.044300e+04\n",
       "25%      7.557928e+05\n",
       "50%      1.124524e+06\n",
       "75%      1.700760e+06\n",
       "max      4.722711e+07\n",
       "Name: views, dtype: float64"
      ]
     },
     "execution_count": 278,
     "metadata": {},
     "output_type": "execute_result"
    }
   ],
   "source": [
    " # average of **1.6** million views per video\n",
    "df['views'].describe()"
   ]
  },
  {
   "cell_type": "code",
   "execution_count": 279,
   "metadata": {},
   "outputs": [
    {
     "name": "stdout",
     "output_type": "stream",
     "text": [
      "1,698,297.0 average views\n"
     ]
    },
    {
     "data": {
      "image/png": "[encoded data removed]",
      "text/plain": [
       "<matplotlib.figure.Figure at 0x1c1be472e8>"
      ]
     },
     "metadata": {},
     "output_type": "display_data"
    },
    {
     "data": {
      "image/png": "[encoded data removed]",
      "text/plain": [
       "<matplotlib.figure.Figure at 0x1c1f6c5160>"
      ]
     },
     "metadata": {},
     "output_type": "display_data"
    }
   ],
   "source": [
    "# pretty print large numbers\n",
    "print(\"{:,}\".format(round(df['views'].mean(),0)), 'average views' )\n",
    "\n",
    "plt.title('Views', size=20)\n",
    "sns.distplot(df['views'])\n",
    "\n",
    "# log of views  (# related to the doubling rate)\n",
    "plt.show()\n",
    "plt.title('Log ( Views ) ', size=20)\n",
    "sns.distplot(np.log(df['views']));"
   ]
  },
  {
   "cell_type": "markdown",
   "metadata": {},
   "source": [
    "###### TED vs TEDx\n",
    "\n",
    "What's the distribution of TED vs TEDx talks?\n",
    "\n",
    "- To answer this question, I have to create a column distinguishing the two. Because the two types are different, for some analyses, I might want to restrict to just one kind of event or at least to look at them separately.\n",
    "\n",
    "Insights:\n",
    "1. 969 of the 2,550 talks are from annual TED events (as opposed to TEDx and other events)\n"
   ]
  },
  {
   "cell_type": "code",
   "execution_count": 280,
   "metadata": {},
   "outputs": [
    {
     "data": {
      "text/plain": [
       "969"
      ]
     },
     "execution_count": 280,
     "metadata": {},
     "output_type": "execute_result"
    }
   ],
   "source": [
    "# See how many of the talks are from annual TED events\n",
    "# All ted yearly talks have event names that start with ted2\n",
    "\n",
    "df['annualTED'] = [1 if event.startswith('TED2') else 0 for event in df['event']]\n",
    "sum(df['annualTED'])"
   ]
  },
  {
   "cell_type": "code",
   "execution_count": 281,
   "metadata": {},
   "outputs": [
    {
     "data": {
      "text/html": [
       "<div>\n",
       "<style scoped>\n",
       "    .dataframe tbody tr th:only-of-type {\n",
       "        vertical-align: middle;\n",
       "    }\n",
       "\n",
       "    .dataframe tbody tr th {\n",
       "        vertical-align: top;\n",
       "    }\n",
       "\n",
       "    .dataframe thead th {\n",
       "        text-align: right;\n",
       "    }\n",
       "</style>\n",
       "<table border=\"1\" class=\"dataframe\">\n",
       "  <thead>\n",
       "    <tr style=\"text-align: right;\">\n",
       "      <th></th>\n",
       "      <th>views</th>\n",
       "      <th>comments</th>\n",
       "      <th>languages</th>\n",
       "    </tr>\n",
       "    <tr>\n",
       "      <th>annualTED</th>\n",
       "      <th></th>\n",
       "      <th></th>\n",
       "      <th></th>\n",
       "    </tr>\n",
       "  </thead>\n",
       "  <tbody>\n",
       "    <tr>\n",
       "      <th>0</th>\n",
       "      <td>1.564294e+06</td>\n",
       "      <td>179.324478</td>\n",
       "      <td>26.518659</td>\n",
       "    </tr>\n",
       "    <tr>\n",
       "      <th>1</th>\n",
       "      <td>1.916935e+06</td>\n",
       "      <td>211.529412</td>\n",
       "      <td>28.643963</td>\n",
       "    </tr>\n",
       "  </tbody>\n",
       "</table>\n",
       "</div>"
      ],
      "text/plain": [
       "                  views    comments  languages\n",
       "annualTED                                     \n",
       "0          1.564294e+06  179.324478  26.518659\n",
       "1          1.916935e+06  211.529412  28.643963"
      ]
     },
     "execution_count": 281,
     "metadata": {},
     "output_type": "execute_result"
    }
   ],
   "source": [
    "df.groupby('annualTED')['views','comments','languages'].mean()"
   ]
  },
  {
   "cell_type": "code",
   "execution_count": 282,
   "metadata": {},
   "outputs": [
    {
     "data": {
      "text/plain": [
       "event\n",
       "TED2014           84\n",
       "TED2009           83\n",
       "TED2013           77\n",
       "TED2016           77\n",
       "TED2015           75\n",
       "TED2011           70\n",
       "TEDGlobal 2012    70\n",
       "TED2010           68\n",
       "TED2007           68\n",
       "TEDGlobal 2011    68\n",
       "TED2017           67\n",
       "TEDGlobal 2013    66\n",
       "TED2012           65\n",
       "TEDGlobal 2009    65\n",
       "TED2008           57\n",
       "Name: title, dtype: int64"
      ]
     },
     "execution_count": 282,
     "metadata": {},
     "output_type": "execute_result"
    }
   ],
   "source": [
    "# Which events had the most talks?\n",
    "df.groupby('event').aggregate('count')['title'].sort_values(ascending=False)[:15]"
   ]
  },
  {
   "cell_type": "markdown",
   "metadata": {},
   "source": [
    "## Published year\n",
    "- talks in the metadata set range from 2006 - 2017\n",
    "- Since film_date and published_date are redundant, I keep film_date and change published_date to published_year.\n",
    "- Just because a talk has been out for longer, doesn't mean it has the most views. \n",
    "    - Hypothesis: As TED.com gains a bigger audience, and recent talks are more prominent on the website, recent talks get viewed much more than older talks."
   ]
  },
  {
   "cell_type": "code",
   "execution_count": 283,
   "metadata": {},
   "outputs": [
    {
     "name": "stdout",
     "output_type": "stream",
     "text": [
      "<class 'numpy.int64'>\n"
     ]
    }
   ],
   "source": [
    "# Use Datetime to make dates understandable and more manageable\n",
    "# Create a column 'year' for just the year published, as integer\n",
    "print(type(df.iloc[0]['film_date']))"
   ]
  },
  {
   "cell_type": "code",
   "execution_count": 284,
   "metadata": {},
   "outputs": [],
   "source": [
    "df['film_date'] = df['film_date'].apply(lambda x: datetime.datetime.fromtimestamp( int(x)).strftime('%d-%m-%Y'))\n",
    "df['published_date'] = df['published_date'].apply(lambda x: datetime.datetime.fromtimestamp( int(x)).strftime('%d-%m-%Y'))\n",
    "\n",
    "# Create year column\n",
    "df['film_year'] = df['film_date'].apply(lambda x: x.split('-')[2])\n",
    "df['published_year'] = df['published_date'].apply(lambda x: x.split('-')[2])\n",
    "df.film_year=df.film_year.astype(int)\n",
    "df.published_year=df.published_year.astype(int)"
   ]
  },
  {
   "cell_type": "code",
   "execution_count": 285,
   "metadata": {},
   "outputs": [
    {
     "data": {
      "text/plain": [
       "count    2550.000000\n",
       "mean     2012.093333\n",
       "std      3.011667   \n",
       "min      2006.000000\n",
       "25%      2010.000000\n",
       "50%      2012.000000\n",
       "75%      2015.000000\n",
       "max      2017.000000\n",
       "Name: published_year, dtype: float64"
      ]
     },
     "execution_count": 285,
     "metadata": {},
     "output_type": "execute_result"
    }
   ],
   "source": [
    "df.published_year.describe()"
   ]
  },
  {
   "cell_type": "code",
   "execution_count": 286,
   "metadata": {},
   "outputs": [
    {
     "data": {
      "image/png": "[encoded data removed]",
      "text/plain": [
       "<matplotlib.figure.Figure at 0x1c1be47128>"
      ]
     },
     "metadata": {},
     "output_type": "display_data"
    }
   ],
   "source": [
    "ax = sns.distplot(df['published_year'])"
   ]
  },
  {
   "cell_type": "markdown",
   "metadata": {},
   "source": [
    "## Comments\n",
    "\n",
    "What makes a talk get many comments? \n",
    "\n",
    "Insights: \n",
    "1. Talks with most comments seem to be those with controversial topics\n",
    "1. Comments vs year are somewhat positively correlated, with a pearson correlation of 0.53. "
   ]
  },
  {
   "cell_type": "code",
   "execution_count": 287,
   "metadata": {},
   "outputs": [
    {
     "data": {
      "text/plain": [
       "count    2550.000000\n",
       "mean     191.562353 \n",
       "std      282.315223 \n",
       "min      2.000000   \n",
       "25%      63.000000  \n",
       "50%      118.000000 \n",
       "75%      221.750000 \n",
       "max      6404.000000\n",
       "Name: comments, dtype: float64"
      ]
     },
     "execution_count": 287,
     "metadata": {},
     "output_type": "execute_result"
    }
   ],
   "source": [
    "df.comments.describe()"
   ]
  },
  {
   "cell_type": "code",
   "execution_count": 288,
   "metadata": {},
   "outputs": [
    {
     "data": {
      "image/png": "[encoded data removed]",
      "text/plain": [
       "<matplotlib.figure.Figure at 0x1c1fabd748>"
      ]
     },
     "metadata": {},
     "output_type": "display_data"
    }
   ],
   "source": [
    "ax = sns.distplot(df['comments'])"
   ]
  },
  {
   "cell_type": "code",
   "execution_count": 289,
   "metadata": {},
   "outputs": [
    {
     "data": {
      "image/png": "[encoded data removed]",
      "text/plain": [
       "<matplotlib.figure.Figure at 0x1c1fabdeb8>"
      ]
     },
     "metadata": {},
     "output_type": "display_data"
    }
   ],
   "source": [
    "# Plot comments vs year are somewhat positively correlated\n",
    "# Notice the pearson correlation of 0.53\n",
    "#  p-value of 1.8e(-185) not informative since the distributions are far from normal\n",
    "\n",
    "# scatter plot of views vs comments\n",
    "ax = sns.jointplot(x='views', y='comments', data=df, ylim=(0, 2000), xlim=(0,2e7), color='darkred', alpha=.4)\n"
   ]
  },
  {
   "cell_type": "markdown",
   "metadata": {},
   "source": [
    "## Languages\n",
    "\n",
    "Number of languages in which each talk is translated"
   ]
  },
  {
   "cell_type": "code",
   "execution_count": 290,
   "metadata": {},
   "outputs": [
    {
     "data": {
      "text/plain": [
       "<seaborn.axisgrid.JointGrid at 0x1c1fecbdd8>"
      ]
     },
     "execution_count": 290,
     "metadata": {},
     "output_type": "execute_result"
    },
    {
     "data": {
      "image/png": "[encoded data removed]",
      "text/plain": [
       "<matplotlib.figure.Figure at 0x1c1fecbeb8>"
      ]
     },
     "metadata": {},
     "output_type": "display_data"
    }
   ],
   "source": [
    "# Are views and number of languages correlated? \n",
    "\n",
    "# Talks are available in 0 to 70 different languages, but most fall between 20 and 40\n",
    "# There is some moderate correlation: some of the most viewed are some of the most translated.\n",
    "\n",
    "sns.jointplot(x='views', y='languages', data=df, xlim = (0,2e7), color='darkred', alpha=.4)"
   ]
  },
  {
   "cell_type": "code",
   "execution_count": 291,
   "metadata": {},
   "outputs": [
    {
     "data": {
      "text/plain": [
       "[<matplotlib.lines.Line2D at 0x1c1b243160>]"
      ]
     },
     "execution_count": 291,
     "metadata": {},
     "output_type": "execute_result"
    },
    {
     "data": {
      "image/png": "[encoded data removed]",
      "text/plain": [
       "<matplotlib.figure.Figure at 0x1c1b0b2128>"
      ]
     },
     "metadata": {},
     "output_type": "display_data"
    }
   ],
   "source": [
    "# See distribution of languages\n",
    "ax = sns.distplot(df['languages'])\n",
    "# plot a vertical line\n",
    "xmin = 5; xmax = np.nan; mfc.axvlines([xmin, np.nan])"
   ]
  },
  {
   "cell_type": "code",
   "execution_count": 292,
   "metadata": {},
   "outputs": [
    {
     "data": {
      "text/plain": [
       "Id\n",
       "58      A dance of \"Symbiosis\"                   \n",
       "115     A string quartet plays \"Blue Room\"       \n",
       "135     \"Woza\"                                   \n",
       "209     \"M'Bifo\"                                 \n",
       "237     \"Kounandi\"                               \n",
       "249     A performance with breath, music, passion\n",
       "399     Piano jazz that rocks                    \n",
       "446     Chaos and harmony on piano               \n",
       "474     An electrifying organ performance        \n",
       "512     Hypnotic South Asian improv music        \n",
       "                      ...                        \n",
       "1229    Beethoven the businessman                \n",
       "1237    The sea we've hardly seen                \n",
       "1301    When a reporter becomes the story        \n",
       "1307    Is life really that complex?             \n",
       "1341    An animated tour of the invisible        \n",
       "1427    I think we all need a pep talk           \n",
       "1467    The technology of touch                  \n",
       "1486    How much does a video weigh?             \n",
       "2407    \"Turceasca\"                              \n",
       "2418    \"Music for Wood and Strings\"             \n",
       "Name: title, Length: 86, dtype: object"
      ]
     },
     "execution_count": 292,
     "metadata": {},
     "output_type": "execute_result"
    }
   ],
   "source": [
    "# see titles of talks translated to 0 languages\n",
    "# Observation: many of these are musical performances \n",
    "\n",
    "df.loc[df['languages']<1, 'title']"
   ]
  },
  {
   "cell_type": "markdown",
   "metadata": {},
   "source": [
    "## Duration\n",
    "\n",
    "The average duration of each talk is about 17 minutes. "
   ]
  },
  {
   "cell_type": "code",
   "execution_count": 293,
   "metadata": {},
   "outputs": [
    {
     "data": {
      "text/plain": [
       "count    2550.000000\n",
       "mean     13.775137  \n",
       "std      6.233029   \n",
       "min      2.200000   \n",
       "25%      9.600000   \n",
       "50%      14.100000  \n",
       "75%      17.400000  \n",
       "max      87.600000  \n",
       "Name: duration, dtype: float64"
      ]
     },
     "execution_count": 293,
     "metadata": {},
     "output_type": "execute_result"
    }
   ],
   "source": [
    "#Convert Duration to minutes\n",
    "df['duration'] = round(df['duration']/60, 1)\n",
    "df.duration.describe()"
   ]
  },
  {
   "cell_type": "code",
   "execution_count": 294,
   "metadata": {},
   "outputs": [
    {
     "data": {
      "image/png": "[encoded data removed]",
      "text/plain": [
       "<matplotlib.figure.Figure at 0x1c1dfac320>"
      ]
     },
     "metadata": {},
     "output_type": "display_data"
    }
   ],
   "source": [
    "# Distribution of talk durations\n",
    "ax = sns.distplot(df['duration'])"
   ]
  },
  {
   "cell_type": "code",
   "execution_count": 295,
   "metadata": {},
   "outputs": [
    {
     "data": {
      "text/html": [
       "<table border=\"1\" class=\"dataframe\">\n",
       "  <thead>\n",
       "    <tr style=\"text-align: right;\">\n",
       "      <th></th>\n",
       "      <th>title</th>\n",
       "      <th>duration</th>\n",
       "      <th>event</th>\n",
       "      <th>link</th>\n",
       "    </tr>\n",
       "    <tr>\n",
       "      <th>Id</th>\n",
       "      <th></th>\n",
       "      <th></th>\n",
       "      <th></th>\n",
       "      <th></th>\n",
       "    </tr>\n",
       "  </thead>\n",
       "  <tbody>\n",
       "    <tr>\n",
       "      <th>640</th>\n",
       "      <td>Parrots, the universe and everything</td>\n",
       "      <td>87.6</td>\n",
       "      <td>University of California</td>\n",
       "      <td><a href=\"https://www.ted.com/talks/douglas_adams_parrots_the_universe_and_everything\" target=\"_blank\">link</a></td>\n",
       "    </tr>\n",
       "    <tr>\n",
       "      <th>588</th>\n",
       "      <td>Really achieving your childhood dreams</td>\n",
       "      <td>76.4</td>\n",
       "      <td>Carnegie Mellon University</td>\n",
       "      <td><a href=\"https://www.ted.com/talks/randy_pausch_really_achieving_your_childhood_dreams\" target=\"_blank\">link</a></td>\n",
       "    </tr>\n",
       "    <tr>\n",
       "      <th>629</th>\n",
       "      <td>Physics is fun to imagine</td>\n",
       "      <td>65.9</td>\n",
       "      <td>BBC TV</td>\n",
       "      <td><a href=\"https://www.ted.com/talks/richard_feynman\" target=\"_blank\">link</a></td>\n",
       "    </tr>\n",
       "    <tr>\n",
       "      <th>2387</th>\n",
       "      <td>Nationalism vs. globalism: the new political divide</td>\n",
       "      <td>60.1</td>\n",
       "      <td>TED Dialogues</td>\n",
       "      <td><a href=\"https://www.ted.com/talks/yuval_noah_harari_nationalism_vs_globalism_the_new_political_divide\" target=\"_blank\">link</a></td>\n",
       "    </tr>\n",
       "    <tr>\n",
       "      <th>594</th>\n",
       "      <td>Stories of Haiti</td>\n",
       "      <td>59.6</td>\n",
       "      <td>University of California</td>\n",
       "      <td><a href=\"https://www.ted.com/talks/edwidge_danticat_stories_of_haiti\" target=\"_blank\">link</a></td>\n",
       "    </tr>\n",
       "  </tbody>\n",
       "</table>"
      ],
      "text/plain": [
       "<IPython.core.display.HTML object>"
      ]
     },
     "metadata": {},
     "output_type": "display_data"
    }
   ],
   "source": [
    "# display links to talks that lasted over 30 minutes to inspect them\n",
    "dftemp = df.loc[df['duration']>=30, ['title', 'duration', 'event','link']].sort_values('duration', ascending=False) \n",
    "dftemp = dftemp[0:5]\n",
    "display(HTML(dftemp.to_html(escape=False)))"
   ]
  },
  {
   "cell_type": "markdown",
   "metadata": {
    "collapsed": true
   },
   "source": [
    "# More new features"
   ]
  },
  {
   "cell_type": "markdown",
   "metadata": {},
   "source": [
    "## Number of speakers"
   ]
  },
  {
   "cell_type": "code",
   "execution_count": 296,
   "metadata": {},
   "outputs": [
    {
     "data": {
      "text/plain": [
       "num_speaker\n",
       "1    2492\n",
       "2    49  \n",
       "3    5   \n",
       "4    3   \n",
       "5    1   \n",
       "Name: title, dtype: int64"
      ]
     },
     "execution_count": 296,
     "metadata": {},
     "output_type": "execute_result"
    }
   ],
   "source": [
    "df.groupby('num_speaker')['title'].aggregate('count')"
   ]
  },
  {
   "cell_type": "markdown",
   "metadata": {},
   "source": [
    "## Number of appearances\n",
    "Count how many talks by each speaker are in this dataset. \n",
    "\n",
    "The counts may be underestimated, because many talks don't get published on the website and onto this dataset, especially older and less popular talks. "
   ]
  },
  {
   "cell_type": "code",
   "execution_count": 297,
   "metadata": {},
   "outputs": [
    {
     "data": {
      "text/html": [
       "<div>\n",
       "<style scoped>\n",
       "    .dataframe tbody tr th:only-of-type {\n",
       "        vertical-align: middle;\n",
       "    }\n",
       "\n",
       "    .dataframe tbody tr th {\n",
       "        vertical-align: top;\n",
       "    }\n",
       "\n",
       "    .dataframe thead th {\n",
       "        text-align: right;\n",
       "    }\n",
       "</style>\n",
       "<table border=\"1\" class=\"dataframe\">\n",
       "  <thead>\n",
       "    <tr style=\"text-align: right;\">\n",
       "      <th></th>\n",
       "      <th>main_speaker</th>\n",
       "      <th>name</th>\n",
       "    </tr>\n",
       "  </thead>\n",
       "  <tbody>\n",
       "    <tr>\n",
       "      <th>770</th>\n",
       "      <td>Hans Rosling</td>\n",
       "      <td>9</td>\n",
       "    </tr>\n",
       "    <tr>\n",
       "      <th>1066</th>\n",
       "      <td>Juan Enriquez</td>\n",
       "      <td>7</td>\n",
       "    </tr>\n",
       "    <tr>\n",
       "      <th>1693</th>\n",
       "      <td>Rives</td>\n",
       "      <td>6</td>\n",
       "    </tr>\n",
       "    <tr>\n",
       "      <th>1278</th>\n",
       "      <td>Marco Tempest</td>\n",
       "      <td>6</td>\n",
       "    </tr>\n",
       "    <tr>\n",
       "      <th>397</th>\n",
       "      <td>Clay Shirky</td>\n",
       "      <td>5</td>\n",
       "    </tr>\n",
       "    <tr>\n",
       "      <th>1487</th>\n",
       "      <td>Nicholas Negroponte</td>\n",
       "      <td>5</td>\n",
       "    </tr>\n",
       "    <tr>\n",
       "      <th>1075</th>\n",
       "      <td>Julian Treasure</td>\n",
       "      <td>5</td>\n",
       "    </tr>\n",
       "    <tr>\n",
       "      <th>424</th>\n",
       "      <td>Dan Ariely</td>\n",
       "      <td>5</td>\n",
       "    </tr>\n",
       "    <tr>\n",
       "      <th>850</th>\n",
       "      <td>Jacqueline Novogratz</td>\n",
       "      <td>5</td>\n",
       "    </tr>\n",
       "  </tbody>\n",
       "</table>\n",
       "</div>"
      ],
      "text/plain": [
       "              main_speaker  name\n",
       "770   Hans Rosling          9   \n",
       "1066  Juan Enriquez         7   \n",
       "1693  Rives                 6   \n",
       "1278  Marco Tempest         6   \n",
       "397   Clay Shirky           5   \n",
       "1487  Nicholas Negroponte   5   \n",
       "1075  Julian Treasure       5   \n",
       "424   Dan Ariely            5   \n",
       "850   Jacqueline Novogratz  5   "
      ]
     },
     "execution_count": 297,
     "metadata": {},
     "output_type": "execute_result"
    }
   ],
   "source": [
    "# Here are names of speakers with the most online TED appearances (this only accounts for online ted talks in this dataset)\n",
    "\n",
    "talksDf = df.groupby('main_speaker').count().reset_index()[['main_speaker', 'name']].sort_values('name',ascending = False)     \n",
    "talksDf[0:9]"
   ]
  },
  {
   "cell_type": "code",
   "execution_count": 298,
   "metadata": {
    "collapsed": true
   },
   "outputs": [],
   "source": [
    "df['num_speaker_talks'] = 1\n",
    "for ix, row in talksDf[talksDf['name'] >= 2].iterrows() :\n",
    "    df.loc[df['main_speaker']==row[0],'num_speaker_talks'] = row[1]"
   ]
  },
  {
   "cell_type": "markdown",
   "metadata": {},
   "source": [
    "## Topics\n",
    "\n",
    "Here, I extract topic labels from a list of tags that is given for each video. These tags were assigned by TED's tagging system.\n",
    "\n",
    "Insights: \n",
    "1. Most popular topics are Science and Technology. Other top ones are Entertainment, Technology, Globali Issues, Psychology, and Health."
   ]
  },
  {
   "cell_type": "code",
   "execution_count": 299,
   "metadata": {},
   "outputs": [
    {
     "data": {
      "text/plain": [
       "Id\n",
       "0    [children, creativity, culture, dance, education, parenting, teaching]                                              \n",
       "1    [alternative energy, cars, climate change, culture, environment, global issues, science, sustainability, technology]\n",
       "2    [computers, entertainment, interface design, media, music, performance, simplicity, software, technology]           \n",
       "3    [MacArthur grant, activism, business, cities, environment, green, inequality, politics, pollution]                  \n",
       "4    [Africa, Asia, Google, demo, economics, global development, global issues, health, math, statistics, visualizations]\n",
       "Name: tags, dtype: object"
      ]
     },
     "execution_count": 299,
     "metadata": {},
     "output_type": "execute_result"
    }
   ],
   "source": [
    "# Here's an example of the tags given.\n",
    "# We can extract information about topic, funding (e.g. MacArthur grant)\n",
    "# \n",
    "df['tags'] = df['tags'].apply(lambda x: ast.literal_eval(x))\n",
    "df['tags'][:5]"
   ]
  },
  {
   "cell_type": "code",
   "execution_count": 300,
   "metadata": {},
   "outputs": [
    {
     "name": "stdout",
     "output_type": "stream",
     "text": [
      "19154\n"
     ]
    },
    {
     "data": {
      "text/plain": [
       "Id\n",
       "2549    software      \n",
       "2549    urban planning\n",
       "Name: topic, dtype: object"
      ]
     },
     "execution_count": 300,
     "metadata": {},
     "output_type": "execute_result"
    }
   ],
   "source": [
    "# Stack (series) of all the tags for every talk. Average 7 tags per talk\n",
    "s = df.apply(lambda x: pd.Series(x['tags']),axis=1).stack().reset_index(level=1, drop=True)\n",
    "s.name = 'topic'\n",
    "# Adding 'topic' and removing 'tags'  (add column for number of tags?)\n",
    "print(len(s))\n",
    "list(s).count('education')\n",
    "s.tail(2)"
   ]
  },
  {
   "cell_type": "code",
   "execution_count": 301,
   "metadata": {},
   "outputs": [
    {
     "name": "stdout",
     "output_type": "stream",
     "text": [
      "(19154, 23)\n"
     ]
    },
    {
     "data": {
      "text/html": [
       "<div>\n",
       "<style scoped>\n",
       "    .dataframe tbody tr th:only-of-type {\n",
       "        vertical-align: middle;\n",
       "    }\n",
       "\n",
       "    .dataframe tbody tr th {\n",
       "        vertical-align: top;\n",
       "    }\n",
       "\n",
       "    .dataframe thead th {\n",
       "        text-align: right;\n",
       "    }\n",
       "</style>\n",
       "<table border=\"1\" class=\"dataframe\">\n",
       "  <thead>\n",
       "    <tr style=\"text-align: right;\">\n",
       "      <th></th>\n",
       "      <th>title</th>\n",
       "      <th>topic</th>\n",
       "    </tr>\n",
       "    <tr>\n",
       "      <th>Id</th>\n",
       "      <th></th>\n",
       "      <th></th>\n",
       "    </tr>\n",
       "  </thead>\n",
       "  <tbody>\n",
       "    <tr>\n",
       "      <th>0</th>\n",
       "      <td>Do schools kill creativity?</td>\n",
       "      <td>children</td>\n",
       "    </tr>\n",
       "    <tr>\n",
       "      <th>0</th>\n",
       "      <td>Do schools kill creativity?</td>\n",
       "      <td>creativity</td>\n",
       "    </tr>\n",
       "  </tbody>\n",
       "</table>\n",
       "</div>"
      ],
      "text/plain": [
       "                          title       topic\n",
       "Id                                         \n",
       "0   Do schools kill creativity?  children  \n",
       "0   Do schools kill creativity?  creativity"
      ]
     },
     "execution_count": 301,
     "metadata": {},
     "output_type": "execute_result"
    }
   ],
   "source": [
    "# Make a df containing a row for each tag+index combination\n",
    "topicDf = df.join(s)\n",
    "print(topicDf.shape)\n",
    "topicDf[['title','topic']].head(2)"
   ]
  },
  {
   "cell_type": "code",
   "execution_count": 302,
   "metadata": {
    "collapsed": true
   },
   "outputs": [],
   "source": [
    "# df of number of talks for each topic, sorted in decreasing order\n",
    "topTopics = pd.DataFrame(topicDf['topic'].value_counts()).reset_index()\n",
    "topTopics.columns = ['topic', 'talks']\n",
    "topTopics.head(15)\n",
    "topTopicsList = list(topTopics.topic[:11])\n",
    "topTopicsList.remove('TEDx')"
   ]
  },
  {
   "cell_type": "code",
   "execution_count": 303,
   "metadata": {},
   "outputs": [
    {
     "data": {
      "image/png": "[encoded data removed]",
      "text/plain": [
       "<matplotlib.figure.Figure at 0x1c1e77b2b0>"
      ]
     },
     "metadata": {},
     "output_type": "display_data"
    }
   ],
   "source": [
    "plt.figure(figsize=(15,5))\n",
    "sns.barplot(x='topic', y='talks', data=topTopics.head(11))\n",
    "plt.show()"
   ]
  },
  {
   "cell_type": "code",
   "execution_count": 304,
   "metadata": {},
   "outputs": [
    {
     "data": {
      "text/plain": [
       "(0, 4000000.0)"
      ]
     },
     "execution_count": 304,
     "metadata": {},
     "output_type": "execute_result"
    },
    {
     "data": {
      "image/png": "[encoded data removed]",
      "text/plain": [
       "<matplotlib.figure.Figure at 0x1c1f743cc0>"
      ]
     },
     "metadata": {},
     "output_type": "display_data"
    }
   ],
   "source": [
    "topTopicTalks = topicDf[topicDf['topic'].isin(topTopicsList)]\n",
    "fig, ax = plt.subplots(nrows=1, ncols=1,figsize=(15, 8))\n",
    "sns.boxplot(x='topic', y='views', data=topTopicTalks, palette=\"muted\", ax =ax)\n",
    "ax.set_ylim([0, 0.4e7])"
   ]
  },
  {
   "cell_type": "code",
   "execution_count": 305,
   "metadata": {
    "collapsed": true
   },
   "outputs": [],
   "source": [
    "# Create columns for the top 10 topics\n",
    "for topicCol in topTopicsList:\n",
    "    df[topicCol] = [1 if topicCol in tagL else 0 for tagL in df['tags']  ]\n"
   ]
  },
  {
   "cell_type": "code",
   "execution_count": 306,
   "metadata": {},
   "outputs": [
    {
     "data": {
      "text/plain": [
       "Index(['title', 'url', 'views', 'link', 'annualTED', 'film_year',\n",
       "       'published_year', 'num_speaker_talks', 'technology', 'science',\n",
       "       'global issues', 'culture', 'design', 'business', 'entertainment',\n",
       "       'health', 'innovation', 'society'],\n",
       "      dtype='object')"
      ]
     },
     "execution_count": 306,
     "metadata": {},
     "output_type": "execute_result"
    }
   ],
   "source": [
    "df.columns[-18:]"
   ]
  },
  {
   "cell_type": "markdown",
   "metadata": {},
   "source": [
    "## Rating counts\n",
    "\n",
    "Viewers on TED.com can give up to 3 different ratings to each talk, from a first list of 14 ratings and an option to submit a custom rating. If a viewer only selects one rating, then it counts three times. \n",
    "\n",
    "Rating counts are very low compared to numbers of views, showing that very few viewers are compelled to rate talks. \n",
    "\n",
    "Talks get drastically different amount of exposure, such as by being posted on the home page or appearing more in recommended talks. One sign of this is how much newer talks have more views than older talks. \n",
    "\n",
    "For these two reasons, it may be misleading to use ratings as a quantitative measure. \n",
    "\n",
    "Perhaps they can only be relied upon as qualitative indicators. We can expect that when people are compelled to rate a talk, they rate it in a way that truly reflects how they feel about the talk.\n",
    "\n",
    "For a given talk, if a rating (say 'Funny') has 20% more counts than another rating (say 'Longwinded'), and the total number of ratings is large, then perhaps we can safely assume that the talk is more 'Funny' than 'Longwinded.'\n"
   ]
  },
  {
   "cell_type": "code",
   "execution_count": 307,
   "metadata": {},
   "outputs": [
    {
     "data": {
      "text/plain": [
       "[{'count': 19645, 'id': 7, 'name': 'Funny'},\n",
       " {'count': 4573, 'id': 1, 'name': 'Beautiful'},\n",
       " {'count': 6073, 'id': 9, 'name': 'Ingenious'},\n",
       " {'count': 3253, 'id': 3, 'name': 'Courageous'},\n",
       " {'count': 387, 'id': 11, 'name': 'Longwinded'},\n",
       " {'count': 242, 'id': 2, 'name': 'Confusing'},\n",
       " {'count': 7346, 'id': 8, 'name': 'Informative'},\n",
       " {'count': 10581, 'id': 22, 'name': 'Fascinating'},\n",
       " {'count': 300, 'id': 21, 'name': 'Unconvincing'},\n",
       " {'count': 10704, 'id': 24, 'name': 'Persuasive'},\n",
       " {'count': 4439, 'id': 23, 'name': 'Jaw-dropping'},\n",
       " {'count': 1174, 'id': 25, 'name': 'OK'},\n",
       " {'count': 209, 'id': 26, 'name': 'Obnoxious'},\n",
       " {'count': 24924, 'id': 10, 'name': 'Inspiring'}]"
      ]
     },
     "execution_count": 307,
     "metadata": {},
     "output_type": "execute_result"
    }
   ],
   "source": [
    "# make each cell a list, rather than a string of a list\n",
    "df['ratings'] = df['ratings'].apply(lambda x: eval(str(x)))\n",
    "df['ratings'][0]"
   ]
  },
  {
   "cell_type": "code",
   "execution_count": 308,
   "metadata": {},
   "outputs": [
    {
     "name": "stdout",
     "output_type": "stream",
     "text": [
      "14\n",
      "Fascinating,Courageous,Longwinded,Obnoxious,Jaw-dropping,Inspiring,OK,Beautiful,Funny,Unconvincing,Ingenious,Informative,Confusing,Persuasive\n"
     ]
    }
   ],
   "source": [
    "ratingsL = list(set([item for item in df['ratings'].apply(lambda x: x[0]['name'])] ))  \n",
    "print(len(ratingsL))\n",
    "print(*ratingsL, sep=',')"
   ]
  },
  {
   "cell_type": "code",
   "execution_count": 309,
   "metadata": {},
   "outputs": [
    {
     "data": {
      "text/plain": [
       "(2550, 15)"
      ]
     },
     "execution_count": 309,
     "metadata": {},
     "output_type": "execute_result"
    }
   ],
   "source": [
    "# Create columns for the various ratings  \n",
    "# dfR stands for  df ratings\n",
    "\n",
    "dfR = pd.DataFrame( columns=['title']+ratingsL)\n",
    "dfR[['title']]=df[['title']]\n",
    "dfR.shape"
   ]
  },
  {
   "cell_type": "code",
   "execution_count": 310,
   "metadata": {},
   "outputs": [],
   "source": [
    "for ix, val in enumerate(df['ratings']): #each val is a row of dfR\n",
    "    dfR.iloc[ix]['title'] = df.iloc[ix]['title']\n",
    "    for item in val:  #each item is a dictionary for a single adjective\n",
    "        category = item['name']\n",
    "        dfR.iloc[ix][category] = np.int64(item['count'])"
   ]
  },
  {
   "cell_type": "code",
   "execution_count": 311,
   "metadata": {},
   "outputs": [
    {
     "data": {
      "text/html": [
       "<div>\n",
       "<style scoped>\n",
       "    .dataframe tbody tr th:only-of-type {\n",
       "        vertical-align: middle;\n",
       "    }\n",
       "\n",
       "    .dataframe tbody tr th {\n",
       "        vertical-align: top;\n",
       "    }\n",
       "\n",
       "    .dataframe thead th {\n",
       "        text-align: right;\n",
       "    }\n",
       "</style>\n",
       "<table border=\"1\" class=\"dataframe\">\n",
       "  <thead>\n",
       "    <tr style=\"text-align: right;\">\n",
       "      <th></th>\n",
       "      <th>title</th>\n",
       "      <th>Fascinating</th>\n",
       "      <th>Courageous</th>\n",
       "      <th>Longwinded</th>\n",
       "      <th>Obnoxious</th>\n",
       "      <th>Jaw-dropping</th>\n",
       "      <th>Inspiring</th>\n",
       "      <th>OK</th>\n",
       "      <th>Beautiful</th>\n",
       "      <th>Funny</th>\n",
       "      <th>Unconvincing</th>\n",
       "      <th>Ingenious</th>\n",
       "      <th>Informative</th>\n",
       "      <th>Confusing</th>\n",
       "      <th>Persuasive</th>\n",
       "    </tr>\n",
       "    <tr>\n",
       "      <th>Id</th>\n",
       "      <th></th>\n",
       "      <th></th>\n",
       "      <th></th>\n",
       "      <th></th>\n",
       "      <th></th>\n",
       "      <th></th>\n",
       "      <th></th>\n",
       "      <th></th>\n",
       "      <th></th>\n",
       "      <th></th>\n",
       "      <th></th>\n",
       "      <th></th>\n",
       "      <th></th>\n",
       "      <th></th>\n",
       "      <th></th>\n",
       "    </tr>\n",
       "  </thead>\n",
       "  <tbody>\n",
       "    <tr>\n",
       "      <th>0</th>\n",
       "      <td>Do schools kill creativity?</td>\n",
       "      <td>10581</td>\n",
       "      <td>3253</td>\n",
       "      <td>387</td>\n",
       "      <td>209</td>\n",
       "      <td>4439</td>\n",
       "      <td>24924</td>\n",
       "      <td>1174</td>\n",
       "      <td>4573</td>\n",
       "      <td>19645</td>\n",
       "      <td>300</td>\n",
       "      <td>6073</td>\n",
       "      <td>7346</td>\n",
       "      <td>242</td>\n",
       "      <td>10704</td>\n",
       "    </tr>\n",
       "    <tr>\n",
       "      <th>1</th>\n",
       "      <td>Averting the climate crisis</td>\n",
       "      <td>132</td>\n",
       "      <td>139</td>\n",
       "      <td>113</td>\n",
       "      <td>131</td>\n",
       "      <td>116</td>\n",
       "      <td>413</td>\n",
       "      <td>203</td>\n",
       "      <td>58</td>\n",
       "      <td>544</td>\n",
       "      <td>258</td>\n",
       "      <td>56</td>\n",
       "      <td>443</td>\n",
       "      <td>62</td>\n",
       "      <td>268</td>\n",
       "    </tr>\n",
       "    <tr>\n",
       "      <th>2</th>\n",
       "      <td>Simplicity sells</td>\n",
       "      <td>166</td>\n",
       "      <td>45</td>\n",
       "      <td>78</td>\n",
       "      <td>142</td>\n",
       "      <td>54</td>\n",
       "      <td>230</td>\n",
       "      <td>146</td>\n",
       "      <td>60</td>\n",
       "      <td>964</td>\n",
       "      <td>104</td>\n",
       "      <td>183</td>\n",
       "      <td>395</td>\n",
       "      <td>27</td>\n",
       "      <td>230</td>\n",
       "    </tr>\n",
       "  </tbody>\n",
       "</table>\n",
       "</div>"
      ],
      "text/plain": [
       "                          title Fascinating Courageous Longwinded Obnoxious  \\\n",
       "Id                                                                            \n",
       "0   Do schools kill creativity?  10581       3253       387        209        \n",
       "1   Averting the climate crisis  132         139        113        131        \n",
       "2   Simplicity sells             166         45         78         142        \n",
       "\n",
       "   Jaw-dropping Inspiring    OK Beautiful  Funny Unconvincing Ingenious  \\\n",
       "Id                                                                        \n",
       "0   4439         24924     1174  4573      19645  300          6073       \n",
       "1   116          413       203   58        544    258          56         \n",
       "2   54           230       146   60        964    104          183        \n",
       "\n",
       "   Informative Confusing Persuasive  \n",
       "Id                                   \n",
       "0   7346        242       10704      \n",
       "1   443         62        268        \n",
       "2   395         27        230        "
      ]
     },
     "execution_count": 311,
     "metadata": {},
     "output_type": "execute_result"
    }
   ],
   "source": [
    "dfR.head(3)"
   ]
  },
  {
   "cell_type": "code",
   "execution_count": 312,
   "metadata": {},
   "outputs": [
    {
     "data": {
      "text/plain": [
       "Index(['comments', 'description', 'duration', 'event', 'film_date',\n",
       "       'languages', 'main_speaker', 'name', 'num_speaker', 'published_date',\n",
       "       'ratings', 'related_talks', 'speaker_occupation', 'tags', 'title',\n",
       "       'url', 'views', 'link', 'annualTED', 'film_year', 'published_year',\n",
       "       'num_speaker_talks', 'technology', 'science', 'global issues',\n",
       "       'culture', 'design', 'business', 'entertainment', 'health',\n",
       "       'innovation', 'society', 'Fascinating', 'Courageous', 'Longwinded',\n",
       "       'Obnoxious', 'Jaw-dropping', 'Inspiring', 'OK', 'Beautiful', 'Funny',\n",
       "       'Unconvincing', 'Ingenious', 'Informative', 'Confusing', 'Persuasive'],\n",
       "      dtype='object')"
      ]
     },
     "execution_count": 312,
     "metadata": {},
     "output_type": "execute_result"
    }
   ],
   "source": [
    "# Merge df and dfR by title\n",
    "\n",
    "df=pd.merge(df, dfR, on='title') ; df.head(2)\n",
    "df.columns"
   ]
  },
  {
   "cell_type": "code",
   "execution_count": 313,
   "metadata": {},
   "outputs": [
    {
     "name": "stdout",
     "output_type": "stream",
     "text": [
      "14\n"
     ]
    },
    {
     "data": {
      "text/plain": [
       "[{'count': 19645, 'id': 7, 'name': 'Funny'},\n",
       " {'count': 4573, 'id': 1, 'name': 'Beautiful'},\n",
       " {'count': 6073, 'id': 9, 'name': 'Ingenious'}]"
      ]
     },
     "execution_count": 313,
     "metadata": {},
     "output_type": "execute_result"
    }
   ],
   "source": [
    "print(len(df['ratings'][3]))\n",
    "def sort_ratings(ratingsList):\n",
    "    #the first ratingsList is df['ratings'][0]\n",
    "    newdict = {}\n",
    "    for item in ratingsList:\n",
    "        newdict[item['name']] = item['count']\n",
    "    newdict = OrderedDict(sorted(newdict.items(), key = lambda x: x[1], reverse=True)) \n",
    "    return newdict\n",
    "df['ratings'][0][0:3]"
   ]
  },
  {
   "cell_type": "code",
   "execution_count": 314,
   "metadata": {},
   "outputs": [
    {
     "data": {
      "text/plain": [
       "OrderedDict([('Inspiring', 24924),\n",
       "             ('Funny', 19645),\n",
       "             ('Persuasive', 10704),\n",
       "             ('Fascinating', 10581),\n",
       "             ('Informative', 7346),\n",
       "             ('Ingenious', 6073),\n",
       "             ('Beautiful', 4573),\n",
       "             ('Jaw-dropping', 4439),\n",
       "             ('Courageous', 3253),\n",
       "             ('OK', 1174),\n",
       "             ('Longwinded', 387),\n",
       "             ('Unconvincing', 300),\n",
       "             ('Confusing', 242),\n",
       "             ('Obnoxious', 209)])"
      ]
     },
     "execution_count": 314,
     "metadata": {},
     "output_type": "execute_result"
    }
   ],
   "source": [
    "# Change ratings to give category sorted by descending count\n",
    "# Replace df['ratings'] with df['ratings_new]\n",
    "df['ratings'] = df['ratings'].apply(lambda x: sort_ratings(x))\n",
    "df['ratings'][0]"
   ]
  },
  {
   "cell_type": "code",
   "execution_count": 327,
   "metadata": {},
   "outputs": [
    {
     "data": {
      "text/plain": [
       "<matplotlib.axes._subplots.AxesSubplot at 0x1c1dbd1cf8>"
      ]
     },
     "execution_count": 327,
     "metadata": {},
     "output_type": "execute_result"
    },
    {
     "data": {
      "image/png": "[encoded data removed]",
      "text/plain": [
       "<matplotlib.figure.Figure at 0x1c1dbadeb8>"
      ]
     },
     "metadata": {},
     "output_type": "display_data"
    }
   ],
   "source": [
    "for col in ratingsL:\n",
    "    df[col] = np.int64(df[col])\n",
    "sns.distplot(df['Beautiful']/df['views'])\n",
    "# most talks have count = 0 for 'Beautiful'"
   ]
  },
  {
   "cell_type": "markdown",
   "metadata": {
    "collapsed": true
   },
   "source": [
    "### See how ratings correlate with other factors"
   ]
  },
  {
   "cell_type": "code",
   "execution_count": 328,
   "metadata": {},
   "outputs": [
    {
     "data": {
      "text/plain": [
       "<seaborn.axisgrid.PairGrid at 0x1c2158fba8>"
      ]
     },
     "execution_count": 328,
     "metadata": {},
     "output_type": "execute_result"
    },
    {
     "data": {
      "image/png": "[encoded data removed]",
      "text/plain": [
       "<matplotlib.figure.Figure at 0x1c2158f0b8>"
      ]
     },
     "metadata": {},
     "output_type": "display_data"
    }
   ],
   "source": [
    "# import seaborn as sns\n",
    "sns.set(style=\"ticks\")\n",
    "\n",
    "sns.pairplot(df[['Beautiful', 'duration','comments']])\n",
    "# Hardly any correlation between these three\n",
    "# comments distribution isn't gaussian"
   ]
  },
  {
   "cell_type": "markdown",
   "metadata": {},
   "source": [
    "# New NLP features\n",
    "\n",
    "We use the dataset with the transcripts to gain some insights into the conent of each talk"
   ]
  },
  {
   "cell_type": "markdown",
   "metadata": {
    "collapsed": true
   },
   "source": [
    "## Words per minute\n",
    "- estimate the rate of speaking from the total duration of each talk and total number of words in its transcript.\n",
    "\n",
    "- the transcripts dataset have the talk's url, so that can be used to match the transcript with the rest of the metadata."
   ]
  },
  {
   "cell_type": "code",
   "execution_count": 343,
   "metadata": {},
   "outputs": [
    {
     "name": "stdout",
     "output_type": "stream",
     "text": [
      "(2467, 2) Index(['transcript', 'url'], dtype='object')\n",
      "Good morning. How are you?(Laughter)It's been great, hasn't it? I've been blown away by the whole thing. In fact, I'm leaving.(Laughter)There have been three themes running through the conference whic \n",
      "Length: 17409\n"
     ]
    }
   ],
   "source": [
    "df2 = pd.read_csv('data/ted-talks/transcripts.csv')\n",
    "print(df2.shape, df2.columns)\n",
    "df2['url'] = df2['url'].apply(lambda x: x.replace('\\n', ''))\n",
    "print(df2.loc[0,'transcript'][0:200],'\\nLength:', len(df2.loc[0,'transcript']))"
   ]
  },
  {
   "cell_type": "code",
   "execution_count": 344,
   "metadata": {},
   "outputs": [
    {
     "name": "stdout",
     "output_type": "stream",
     "text": [
      "(2559, 3)\n",
      "17409\n"
     ]
    }
   ],
   "source": [
    "dftext = pd.merge(left=df,right=df2, how='left', left_on='url', right_on='url')\n",
    "dftext = dftext[['url','transcript','duration']]\n",
    "print(dftext.shape)\n",
    "print(len(dftext.loc[0,'transcript']))"
   ]
  },
  {
   "cell_type": "code",
   "execution_count": 345,
   "metadata": {
    "collapsed": true
   },
   "outputs": [],
   "source": [
    "dftext['transcript'] = dftext['transcript'].fillna('')\n",
    "dftext['wc'] = dftext['transcript'].apply(lambda x: len(x.split()))\n",
    "#dftext['title'] = df['title']"
   ]
  },
  {
   "cell_type": "code",
   "execution_count": 346,
   "metadata": {},
   "outputs": [
    {
     "data": {
      "text/plain": [
       "count    2559.000000\n",
       "mean     1971.804220\n",
       "std      1009.465375\n",
       "min      0.000000   \n",
       "25%      1233.000000\n",
       "50%      1983.000000\n",
       "75%      2683.000000\n",
       "max      9044.000000\n",
       "Name: wc, dtype: float64"
      ]
     },
     "execution_count": 346,
     "metadata": {},
     "output_type": "execute_result"
    }
   ],
   "source": [
    "dftext['wc'].describe()"
   ]
  },
  {
   "cell_type": "code",
   "execution_count": 347,
   "metadata": {},
   "outputs": [
    {
     "data": {
      "text/plain": [
       "count    2559.000000\n",
       "mean     142.153576 \n",
       "std      39.599099  \n",
       "min      0.000000   \n",
       "25%      131.000000 \n",
       "50%      149.000000 \n",
       "75%      165.000000 \n",
       "max      247.000000 \n",
       "Name: words_per_min, dtype: float64"
      ]
     },
     "execution_count": 347,
     "metadata": {},
     "output_type": "execute_result"
    }
   ],
   "source": [
    "dftext['words_per_min'] = round(dftext['wc']/dftext['duration'], 0)\n",
    "dftext['words_per_min'].describe()"
   ]
  },
  {
   "cell_type": "code",
   "execution_count": 348,
   "metadata": {},
   "outputs": [
    {
     "data": {
      "text/plain": [
       "<matplotlib.axes._subplots.AxesSubplot at 0x1c1f1ec518>"
      ]
     },
     "execution_count": 348,
     "metadata": {},
     "output_type": "execute_result"
    },
    {
     "data": {
      "image/png": "[encoded data removed]",
      "text/plain": [
       "<matplotlib.figure.Figure at 0x1c1f765da0>"
      ]
     },
     "metadata": {},
     "output_type": "display_data"
    }
   ],
   "source": [
    "sns.distplot(dftext['words_per_min'])\n",
    "\n",
    "# The talks with wpm=0 may just be missing a transcript."
   ]
  },
  {
   "cell_type": "code",
   "execution_count": 349,
   "metadata": {},
   "outputs": [
    {
     "name": "stdout",
     "output_type": "stream",
     "text": [
      "(2571, 48)\n"
     ]
    },
    {
     "data": {
      "text/html": [
       "<div>\n",
       "<style scoped>\n",
       "    .dataframe tbody tr th:only-of-type {\n",
       "        vertical-align: middle;\n",
       "    }\n",
       "\n",
       "    .dataframe tbody tr th {\n",
       "        vertical-align: top;\n",
       "    }\n",
       "\n",
       "    .dataframe thead th {\n",
       "        text-align: right;\n",
       "    }\n",
       "</style>\n",
       "<table border=\"1\" class=\"dataframe\">\n",
       "  <thead>\n",
       "    <tr style=\"text-align: right;\">\n",
       "      <th></th>\n",
       "      <th>title</th>\n",
       "      <th>words_per_min</th>\n",
       "    </tr>\n",
       "  </thead>\n",
       "  <tbody>\n",
       "    <tr>\n",
       "      <th>0</th>\n",
       "      <td>Do schools kill creativity?</td>\n",
       "      <td>158.0</td>\n",
       "    </tr>\n",
       "    <tr>\n",
       "      <th>1</th>\n",
       "      <td>Averting the climate crisis</td>\n",
       "      <td>128.0</td>\n",
       "    </tr>\n",
       "    <tr>\n",
       "      <th>2</th>\n",
       "      <td>Simplicity sells</td>\n",
       "      <td>152.0</td>\n",
       "    </tr>\n",
       "  </tbody>\n",
       "</table>\n",
       "</div>"
      ],
      "text/plain": [
       "                         title  words_per_min\n",
       "0  Do schools kill creativity?  158.0        \n",
       "1  Averting the climate crisis  128.0        \n",
       "2  Simplicity sells             152.0        "
      ]
     },
     "execution_count": 349,
     "metadata": {},
     "output_type": "execute_result"
    }
   ],
   "source": [
    "df = pd.merge(left=df,right=dftext[['url','words_per_min']], how='inner', left_on='url', right_on='url')\n",
    "print(df.shape)\n",
    "df[['title','words_per_min']].head(3)"
   ]
  },
  {
   "cell_type": "code",
   "execution_count": 350,
   "metadata": {},
   "outputs": [
    {
     "data": {
      "text/plain": [
       "<seaborn.axisgrid.PairGrid at 0x1c2115e240>"
      ]
     },
     "execution_count": 350,
     "metadata": {},
     "output_type": "execute_result"
    },
    {
     "data": {
      "image/png": "[encoded data removed]",
      "text/plain": [
       "<matplotlib.figure.Figure at 0x1c21989358>"
      ]
     },
     "metadata": {},
     "output_type": "display_data"
    }
   ],
   "source": [
    "dataset = df[['views', 'words_per_min']]\n",
    "\n",
    "#f, ax = plt.subplots(figsize=(8, 8))\n",
    "#corr = dataset.corr()\n",
    "#sns.heatmap(corr, mask=np.zeros_like(corr, dtype=np.bool), cmap=\"PiYG\", center = 0,  square=True, ax=ax)\n",
    "sns.pairplot(dataset)"
   ]
  },
  {
   "cell_type": "markdown",
   "metadata": {},
   "source": [
    "## Gender from first name\n",
    "\n",
    "I add a label from 0 - 1 produced using gender_guesser based on the first name of the main speaker. \n",
    "It is trained on a corpus of 40,000 names from all over the world. [gender_guesser](https://pypi.python.org/pypi/gender-guesser/)\n",
    "\n",
    "'andy' is the gender_guesser label for androgenous names."
   ]
  },
  {
   "cell_type": "code",
   "execution_count": 354,
   "metadata": {},
   "outputs": [
    {
     "name": "stdout",
     "output_type": "stream",
     "text": [
      "               first_name\n",
      "gender_name              \n",
      "andy           33        \n",
      "female         642       \n",
      "male           1448      \n",
      "mostly_female  55        \n",
      "mostly_male    94        \n",
      "unknown        299       \n"
     ]
    },
    {
     "data": {
      "text/html": [
       "<div>\n",
       "<style scoped>\n",
       "    .dataframe tbody tr th:only-of-type {\n",
       "        vertical-align: middle;\n",
       "    }\n",
       "\n",
       "    .dataframe tbody tr th {\n",
       "        vertical-align: top;\n",
       "    }\n",
       "\n",
       "    .dataframe thead th {\n",
       "        text-align: right;\n",
       "    }\n",
       "</style>\n",
       "<table border=\"1\" class=\"dataframe\">\n",
       "  <thead>\n",
       "    <tr style=\"text-align: right;\">\n",
       "      <th></th>\n",
       "      <th>first_name</th>\n",
       "      <th>gender_name</th>\n",
       "    </tr>\n",
       "  </thead>\n",
       "  <tbody>\n",
       "    <tr>\n",
       "      <th>0</th>\n",
       "      <td>Ken</td>\n",
       "      <td>male</td>\n",
       "    </tr>\n",
       "    <tr>\n",
       "      <th>1</th>\n",
       "      <td>Al</td>\n",
       "      <td>male</td>\n",
       "    </tr>\n",
       "    <tr>\n",
       "      <th>2</th>\n",
       "      <td>David</td>\n",
       "      <td>male</td>\n",
       "    </tr>\n",
       "    <tr>\n",
       "      <th>3</th>\n",
       "      <td>Majora</td>\n",
       "      <td>unknown</td>\n",
       "    </tr>\n",
       "    <tr>\n",
       "      <th>4</th>\n",
       "      <td>Hans</td>\n",
       "      <td>male</td>\n",
       "    </tr>\n",
       "  </tbody>\n",
       "</table>\n",
       "</div>"
      ],
      "text/plain": [
       "  first_name gender_name\n",
       "0  Ken        male      \n",
       "1  Al         male      \n",
       "2  David      male      \n",
       "3  Majora     unknown   \n",
       "4  Hans       male      "
      ]
     },
     "execution_count": 354,
     "metadata": {},
     "output_type": "execute_result"
    }
   ],
   "source": [
    "# Adding first_name, gender, and gender_class columns\n",
    "\n",
    "\n",
    "df['first_name'] = df['main_speaker'].apply(lambda x : x.split(' ')[0])\n",
    "\n",
    "genderList = [0]*len(df['first_name'])\n",
    "detector = gender.Detector()\n",
    "\n",
    "for ix, row in df.iterrows():\n",
    "    #d.get_gender(u\"Bob\")\n",
    "    name = row['first_name']\n",
    "    thisGender = detector.get_gender(name)\n",
    "    genderList[ix]=thisGender\n",
    "\n",
    "df['gender_name'] = genderList\n",
    "print(df[['first_name','gender_name']].groupby('gender_name').count())\n",
    "df[['first_name','gender_name']].head(5)"
   ]
  },
  {
   "cell_type": "code",
   "execution_count": 355,
   "metadata": {},
   "outputs": [
    {
     "data": {
      "text/html": [
       "<div>\n",
       "<style scoped>\n",
       "    .dataframe tbody tr th:only-of-type {\n",
       "        vertical-align: middle;\n",
       "    }\n",
       "\n",
       "    .dataframe tbody tr th {\n",
       "        vertical-align: top;\n",
       "    }\n",
       "\n",
       "    .dataframe thead th {\n",
       "        text-align: right;\n",
       "    }\n",
       "</style>\n",
       "<table border=\"1\" class=\"dataframe\">\n",
       "  <thead>\n",
       "    <tr style=\"text-align: right;\">\n",
       "      <th></th>\n",
       "      <th>first_name</th>\n",
       "      <th>gender_name</th>\n",
       "    </tr>\n",
       "  </thead>\n",
       "  <tbody>\n",
       "    <tr>\n",
       "      <th>21</th>\n",
       "      <td>Ze</td>\n",
       "      <td>andy</td>\n",
       "    </tr>\n",
       "    <tr>\n",
       "      <th>32</th>\n",
       "      <td>Aubrey</td>\n",
       "      <td>andy</td>\n",
       "    </tr>\n",
       "    <tr>\n",
       "      <th>323</th>\n",
       "      <td>Jackie</td>\n",
       "      <td>andy</td>\n",
       "    </tr>\n",
       "    <tr>\n",
       "      <th>474</th>\n",
       "      <td>Qi</td>\n",
       "      <td>andy</td>\n",
       "    </tr>\n",
       "    <tr>\n",
       "      <th>790</th>\n",
       "      <td>Ze</td>\n",
       "      <td>andy</td>\n",
       "    </tr>\n",
       "  </tbody>\n",
       "</table>\n",
       "</div>"
      ],
      "text/plain": [
       "    first_name gender_name\n",
       "21   Ze         andy      \n",
       "32   Aubrey     andy      \n",
       "323  Jackie     andy      \n",
       "474  Qi         andy      \n",
       "790  Ze         andy      "
      ]
     },
     "execution_count": 355,
     "metadata": {},
     "output_type": "execute_result"
    }
   ],
   "source": [
    "df.loc[df['gender_name']=='andy' ,['first_name','gender_name']][0:5]"
   ]
  },
  {
   "cell_type": "code",
   "execution_count": 356,
   "metadata": {},
   "outputs": [
    {
     "data": {
      "text/html": [
       "<div>\n",
       "<style scoped>\n",
       "    .dataframe tbody tr th:only-of-type {\n",
       "        vertical-align: middle;\n",
       "    }\n",
       "\n",
       "    .dataframe tbody tr th {\n",
       "        vertical-align: top;\n",
       "    }\n",
       "\n",
       "    .dataframe thead th {\n",
       "        text-align: right;\n",
       "    }\n",
       "</style>\n",
       "<table border=\"1\" class=\"dataframe\">\n",
       "  <thead>\n",
       "    <tr style=\"text-align: right;\">\n",
       "      <th></th>\n",
       "      <th>gender_name</th>\n",
       "      <th>gender_name_class</th>\n",
       "    </tr>\n",
       "  </thead>\n",
       "  <tbody>\n",
       "    <tr>\n",
       "      <th>0</th>\n",
       "      <td>male</td>\n",
       "      <td>0.0</td>\n",
       "    </tr>\n",
       "    <tr>\n",
       "      <th>1</th>\n",
       "      <td>male</td>\n",
       "      <td>0.0</td>\n",
       "    </tr>\n",
       "    <tr>\n",
       "      <th>2</th>\n",
       "      <td>male</td>\n",
       "      <td>0.0</td>\n",
       "    </tr>\n",
       "    <tr>\n",
       "      <th>3</th>\n",
       "      <td>unknown</td>\n",
       "      <td>NaN</td>\n",
       "    </tr>\n",
       "    <tr>\n",
       "      <th>4</th>\n",
       "      <td>male</td>\n",
       "      <td>0.0</td>\n",
       "    </tr>\n",
       "    <tr>\n",
       "      <th>5</th>\n",
       "      <td>male</td>\n",
       "      <td>0.0</td>\n",
       "    </tr>\n",
       "    <tr>\n",
       "      <th>6</th>\n",
       "      <td>female</td>\n",
       "      <td>1.0</td>\n",
       "    </tr>\n",
       "  </tbody>\n",
       "</table>\n",
       "</div>"
      ],
      "text/plain": [
       "  gender_name  gender_name_class\n",
       "0  male        0.0              \n",
       "1  male        0.0              \n",
       "2  male        0.0              \n",
       "3  unknown    NaN               \n",
       "4  male        0.0              \n",
       "5  male        0.0              \n",
       "6  female      1.0              "
      ]
     },
     "execution_count": 356,
     "metadata": {},
     "output_type": "execute_result"
    }
   ],
   "source": [
    "# The gender labels/values are indicative of the confidence. \n",
    "# 1 and 0 are the only high-confidence labels.\n",
    "# The assumption here is that name is truly indicative of gender.\n",
    "genderSubs = {'female': 1, 'mostly_female':0.75, 'mostly_male':0.25, 'male':0, 'andy':np.nan, 'unknown':np.nan}   \n",
    "df['gender_name_class'] = list(map(genderSubs.get, df['gender_name']  ))\n",
    "df[['gender_name','gender_name_class']][:7]"
   ]
  },
  {
   "cell_type": "markdown",
   "metadata": {},
   "source": [
    "# Summary"
   ]
  },
  {
   "cell_type": "markdown",
   "metadata": {
    "collapsed": true
   },
   "source": [
    "Original metadata features:\n",
    "\n",
    "* **name:** The official name of the TED Talk. Includes the title and the speaker.\n",
    "* **title:** The title of the talk\n",
    "* **description:** A blurb of what the talk is about.\n",
    "* **main_speaker:** The first named speaker of the talk.\n",
    "* **speaker_occupation:** The occupation of the main speaker.\n",
    "* **num_speaker:** The number of speakers in the talk.\n",
    "* **duration:** The duration of the talk in seconds\n",
    "    - changed to minutes\n",
    "* **event:** The TED/TEDx event where the talk took place.\n",
    "* **film_date:** The Unix timestamp of the filming.\n",
    "\t- changed to datetime format\n",
    "* **published_date:** The Unix timestamp for the publication of the talk on TED.com\n",
    "\t- changed to datetime format\n",
    "* **comments:** The number of first level comments made on the talk.\n",
    "* **tags:** The themes associated with the talk.\n",
    "* **languages:** The number of languages in which the talk is available.\n",
    "* **ratings:** A stringified dictionary of the various ratings given to the talk (inspiring, fascinating, jaw dropping, etc.)\n",
    "\t- changed to an ordered  dictionary sorted by descending frequency\n",
    "* **related_talks:** A list of dictionaries of recommended talks to watch next.\n",
    "* **url:** The URL of the talk.\n",
    "* **views:** The number of views on the talk.\n",
    "\n",
    "Enhanced metadata:\n",
    "\n",
    "* **link:** (html tag to display url as a link that gets opened in a new tab)  \n",
    "* **annualTED:** 1 if event is an annual TED event rather than a TEDx event.  \n",
    "* **film_year**  \n",
    "* **published_year**  \n",
    "* **num_speaker_talks**  \n",
    "\n",
    "Topics: \n",
    "* **technology, 'science','global issues', 'culture', 'design', 'business', 'entertainment','health', 'innovation', 'society'**\n",
    "\n",
    "Ratings: \n",
    "* **Fascinating, Courageous, Longwinded, Obnoxious, Jaw-dropping, Inspiring, OK, Beautiful, Funny, Unconvincing, Ingenious, Informative, Confusing, Persuasive**\n",
    "    \n",
    "From gender_guesser:\n",
    "* gender_name: \n",
    "* gender_name_class : 0 for \"mostly male\" and 1 for \"mostly female\"\n"
   ]
  },
  {
   "cell_type": "code",
   "execution_count": 357,
   "metadata": {},
   "outputs": [
    {
     "name": "stdout",
     "output_type": "stream",
     "text": [
      "Index(['comments', 'description', 'duration', 'event', 'film_date',\n",
      "       'languages', 'main_speaker', 'name', 'num_speaker', 'published_date',\n",
      "       'ratings', 'related_talks', 'speaker_occupation', 'tags', 'title',\n",
      "       'url', 'views', 'link', 'annualTED', 'film_year', 'published_year',\n",
      "       'num_speaker_talks', 'technology', 'science', 'global issues',\n",
      "       'culture', 'design', 'business', 'entertainment', 'health',\n",
      "       'innovation', 'society', 'Fascinating', 'Courageous', 'Longwinded',\n",
      "       'Obnoxious', 'Jaw-dropping', 'Inspiring', 'OK', 'Beautiful', 'Funny',\n",
      "       'Unconvincing', 'Ingenious', 'Informative', 'Confusing', 'Persuasive',\n",
      "       'wpm', 'words_per_min', 'first_name', 'gender_name',\n",
      "       'gender_name_class'],\n",
      "      dtype='object')\n"
     ]
    },
    {
     "data": {
      "text/plain": [
       "(2571, 51)"
      ]
     },
     "execution_count": 357,
     "metadata": {},
     "output_type": "execute_result"
    }
   ],
   "source": [
    "print(df.columns)\n",
    "df.shape"
   ]
  },
  {
   "cell_type": "markdown",
   "metadata": {},
   "source": [
    "# Write to file"
   ]
  },
  {
   "cell_type": "code",
   "execution_count": 358,
   "metadata": {
    "collapsed": true
   },
   "outputs": [],
   "source": [
    "df.to_csv('data/meta_plus.csv')"
   ]
  },
  {
   "cell_type": "code",
   "execution_count": 1,
   "metadata": {
    "collapsed": true
   },
   "outputs": [],
   "source": []
  }
 ],
 "metadata": {
  "kernelspec": {
   "display_name": "Python 3",
   "language": "python",
   "name": "python3"
  },
  "language_info": {
   "codemirror_mode": {
    "name": "ipython",
    "version": 3
   },
   "file_extension": ".py",
   "mimetype": "text/x-python",
   "name": "python",
   "nbconvert_exporter": "python",
   "pygments_lexer": "ipython3",
   "version": "3.6.3"
  },
  "toc": {
   "nav_menu": {},
   "number_sections": true,
   "sideBar": true,
   "skip_h1_title": false,
   "title_cell": "Table of Contents",
   "title_sidebar": "Contents",
   "toc_cell": false,
   "toc_position": {
    "height": "calc(100% - 180px)",
    "left": "10px",
    "top": "150px",
    "width": "188px"
   },
   "toc_section_display": true,
   "toc_window_display": true
  }
 },
 "nbformat": 4,
 "nbformat_minor": 2
}
