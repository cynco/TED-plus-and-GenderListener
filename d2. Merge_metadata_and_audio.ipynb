{
 "cells": [
  {
   "cell_type": "markdown",
   "metadata": {},
   "source": [
    "# Upload pickled audio features and merge with metadata\n",
    "\n",
    "Purpose of this notebook:\n",
    "1. Upload the audio features from features.pickle\n",
    "2. Add to the metadata the fileName of the corresponding audio file\n",
    "3. Merge the metadata and the audio features (for talks for which audio is available)"
   ]
  },
  {
   "cell_type": "code",
   "execution_count": 3,
   "metadata": {},
   "outputs": [],
   "source": [
    "%matplotlib inline\n",
    "import numpy as np\n",
    "from scipy import stats\n",
    "\n",
    "import glob2 as glob\n",
    "import pydub\n",
    "import pandas as pd\n",
    "import matplotlib.pyplot as plt\n",
    "import seaborn as sns\n",
    "import timeit as ti\n",
    "import time as time\n",
    "import aux_code.functions as mfc # user-created functions (re-start kernel to update)\n",
    "import pickle \n"
   ]
  },
  {
   "cell_type": "markdown",
   "metadata": {},
   "source": [
    "## Upload enhanced metadata"
   ]
  },
  {
   "cell_type": "code",
   "execution_count": 34,
   "metadata": {},
   "outputs": [
    {
     "name": "stdout",
     "output_type": "stream",
     "text": [
      "(2571, 51)\n"
     ]
    }
   ],
   "source": [
    "# read metadata (this is the enhanced metadata)\n",
    "df = pd.read_csv('data/meta_plus.csv', index_col = 0)\n",
    "#df.index.name = 'Id'\n",
    "print(df.shape)"
   ]
  },
  {
   "cell_type": "code",
   "execution_count": 35,
   "metadata": {},
   "outputs": [
    {
     "data": {
      "text/plain": [
       "Index(['comments', 'description', 'duration', 'event', 'film_date',\n",
       "       'languages', 'main_speaker', 'name', 'num_speaker', 'published_date',\n",
       "       'ratings', 'related_talks', 'speaker_occupation', 'tags', 'title',\n",
       "       'url', 'views', 'link', 'annualTED', 'film_year', 'published_year',\n",
       "       'num_speaker_talks', 'technology', 'science', 'global issues',\n",
       "       'culture', 'design', 'business', 'entertainment', 'health',\n",
       "       'innovation', 'society', 'Fascinating', 'Courageous', 'Longwinded',\n",
       "       'Obnoxious', 'Jaw-dropping', 'Inspiring', 'OK', 'Beautiful', 'Funny',\n",
       "       'Unconvincing', 'Ingenious', 'Informative', 'Confusing', 'Persuasive',\n",
       "       'wpm', 'words_per_min', 'first_name', 'gender_name',\n",
       "       'gender_name_class'],\n",
       "      dtype='object')"
      ]
     },
     "execution_count": 35,
     "metadata": {},
     "output_type": "execute_result"
    }
   ],
   "source": [
    "df.columns"
   ]
  },
  {
   "cell_type": "markdown",
   "metadata": {},
   "source": [
    "## Upload extracted audio features\n",
    "\n",
    "For when I don't already have the features in memory and want to re-use extracted features saved to file."
   ]
  },
  {
   "cell_type": "code",
   "execution_count": 36,
   "metadata": {},
   "outputs": [
    {
     "name": "stdout",
     "output_type": "stream",
     "text": [
      "data/features240.pickle\n",
      "1486\n",
      "data/featureTime240.pickle\n",
      "1486\n",
      "data/skippedList240.pickle\n",
      "14\n",
      "1486 ['YvesBehar_2008', 'YvesBehar_2009', 'YvesRossy_2011G']\n"
     ]
    }
   ],
   "source": [
    "# Import audio features data from pickled dictionary file\n",
    "suffix = '240'\n",
    "features = {}\n",
    "featureTime = {}\n",
    "skippedList = []\n",
    "\n",
    "for objName in ['features', 'featureTime', 'skippedList']:  \n",
    "    fileName = 'data/'+objName+suffix+'.pickle'\n",
    "    print(fileName)\n",
    "    with open(fileName, 'rb') as handle:\n",
    "        globals()[objName] = pickle.load(handle)\n",
    "        print(len(globals()[objName]))\n",
    "\n",
    "allWav = list(features.keys())\n",
    "print(len(allWav), allWav[-3:])"
   ]
  },
  {
   "cell_type": "markdown",
   "metadata": {},
   "source": [
    "## Match audio filenames and metadata"
   ]
  },
  {
   "cell_type": "code",
   "execution_count": 44,
   "metadata": {},
   "outputs": [
    {
     "name": "stdout",
     "output_type": "stream",
     "text": [
      "number talks with metadata and audio: 1317\n"
     ]
    }
   ],
   "source": [
    "allMatchesD = {}\n",
    "duplicates = []\n",
    "\n",
    "# go through \n",
    "for ix, row in df[['title','main_speaker','film_year']].iterrows() :\n",
    "    #approxNames is based on the metadata\n",
    "    #wavNames are the audio file names\n",
    "    approxName = row['main_speaker'].replace(' ','') +'_'+ str(row['film_year'])\n",
    "    approxName = approxName.replace('.','').replace(\"'\",\"\")\n",
    "    match = [wavName for wavName in allWav if wavName.startswith( approxName ) ]\n",
    "    #if match was found\n",
    "    if len(match)>0: \n",
    "        allMatchesD[row['title']] = match[0]\n",
    "    # if more than one match was found\n",
    "    if len(match)>1: \n",
    "        duplicates.extend(match[1:])\n",
    "\n",
    "duplicates = sorted(list(set(duplicates)))\n",
    "df['fileName'] = df['title'].map(allMatchesD)\n",
    "allMatches = list(allMatchesD.values())\n",
    "print('number talks with metadata and audio:',len(allMatches))"
   ]
  },
  {
   "cell_type": "code",
   "execution_count": 39,
   "metadata": {},
   "outputs": [
    {
     "data": {
      "image/png": "[encoded data removed]",
      "text/plain": [
       "<matplotlib.figure.Figure at 0x1c0fd21d30>"
      ]
     },
     "metadata": {},
     "output_type": "display_data"
    }
   ],
   "source": [
    "# make histogram of index numbers of talks with an audio file\n",
    "plt.hist(df[~df.fileName.isna()].index, bins=range(0,2500,200));"
   ]
  },
  {
   "cell_type": "code",
   "execution_count": 41,
   "metadata": {},
   "outputs": [
    {
     "data": {
      "text/plain": [
       "count    1331.000000\n",
       "mean     2009.459053\n",
       "std         2.968065\n",
       "min      1984.000000\n",
       "25%      2008.000000\n",
       "50%      2010.000000\n",
       "75%      2012.000000\n",
       "max      2013.000000\n",
       "Name: film_year, dtype: float64"
      ]
     },
     "execution_count": 41,
     "metadata": {},
     "output_type": "execute_result"
    },
    {
     "data": {
      "image/png": "[encoded data removed]",
      "text/plain": [
       "<matplotlib.figure.Figure at 0x1c0f256d30>"
      ]
     },
     "metadata": {},
     "output_type": "display_data"
    }
   ],
   "source": [
    "# histogram of film_year for talks with audio\n",
    "# audio files are from 1984-2013, with most from around 2009.\n",
    "plt.hist(df[~df.fileName.isna()]['film_year'], bins = 80);\n",
    "\n",
    "df[~df.fileName.isna()]['film_year'].describe()"
   ]
  },
  {
   "cell_type": "markdown",
   "metadata": {},
   "source": [
    "# Merge metadata and audio features"
   ]
  },
  {
   "cell_type": "code",
   "execution_count": 45,
   "metadata": {},
   "outputs": [
    {
     "data": {
      "text/plain": [
       "51"
      ]
     },
     "execution_count": 45,
     "metadata": {},
     "output_type": "execute_result"
    }
   ],
   "source": [
    "# Make sure that df contains fileName\n",
    "df.columns.get_loc('fileName')"
   ]
  },
  {
   "cell_type": "code",
   "execution_count": 52,
   "metadata": {
    "collapsed": true
   },
   "outputs": [],
   "source": [
    "# Create a df with filename and all the audio features\n",
    "# This can take one or multiple sets of audio features for each filename\n",
    "\n",
    "audioTempDf = pd.DataFrame( columns = [str(num) for num in range(0,34)])\n",
    "audioTempDf.insert(0,'fileName', features.keys())\n",
    "\n",
    "for ii, fileName in enumerate(features.keys()):\n",
    "    vals1 = [float(num[0]) for num in features[fileName].tolist()]\n",
    "    audioTempDf.iloc[ii,:] = [fileName]+vals1\n",
    "\n",
    "audioTempDf = audioTempDf.apply(lambda x: list(x))  # this prevents distplot ValueError: color kwarg... (usually from giving a 2D array instead of 1D array)"
   ]
  },
  {
   "cell_type": "code",
   "execution_count": 53,
   "metadata": {
    "collapsed": true
   },
   "outputs": [],
   "source": [
    "# Give informative names to audio features\n",
    "\n",
    "oldNames = [str(item) for item in range(0,34)]\n",
    "\n",
    "newNames = ['ZCR', 'Energy','EnergyEntropy','SpectralCentroid',\n",
    "            'SpectralSpread', 'SpectralEntropy','SpectralFlux', \n",
    "            'SpectralRollof', \n",
    "            'mfcc1','mfcc2','mfcc3','mfcc4',\n",
    "            'mfccC5','mfcc6','mfcc7','mfcc8',\n",
    "            'mfcc9','mfcc10','mfcc11','mfcc12', 'mfcc13',\n",
    "            'Chroma1','Chroma2','Chroma3','Chroma4',\n",
    "            'Chroma5','Chroma6','Chroma7','Chroma8',\n",
    "            'Chroma9','Chroma10','Chroma11','Chroma12',\n",
    "            'Chroma_std']  \n",
    "\n",
    "namePairs = dict(zip(oldNames, newNames)) #could add different suffixes here\n",
    "audioTempDf = audioTempDf.rename(columns=namePairs)   "
   ]
  },
  {
   "cell_type": "code",
   "execution_count": 54,
   "metadata": {},
   "outputs": [
    {
     "data": {
      "text/html": [
       "<div>\n",
       "<style scoped>\n",
       "    .dataframe tbody tr th:only-of-type {\n",
       "        vertical-align: middle;\n",
       "    }\n",
       "\n",
       "    .dataframe tbody tr th {\n",
       "        vertical-align: top;\n",
       "    }\n",
       "\n",
       "    .dataframe thead th {\n",
       "        text-align: right;\n",
       "    }\n",
       "</style>\n",
       "<table border=\"1\" class=\"dataframe\">\n",
       "  <thead>\n",
       "    <tr style=\"text-align: right;\">\n",
       "      <th></th>\n",
       "      <th>fileName</th>\n",
       "      <th>ZCR</th>\n",
       "      <th>Energy</th>\n",
       "      <th>EnergyEntropy</th>\n",
       "      <th>SpectralCentroid</th>\n",
       "      <th>SpectralSpread</th>\n",
       "      <th>SpectralEntropy</th>\n",
       "      <th>SpectralFlux</th>\n",
       "      <th>SpectralRollof</th>\n",
       "      <th>mfcc1</th>\n",
       "      <th>...</th>\n",
       "      <th>Chroma4</th>\n",
       "      <th>Chroma5</th>\n",
       "      <th>Chroma6</th>\n",
       "      <th>Chroma7</th>\n",
       "      <th>Chroma8</th>\n",
       "      <th>Chroma9</th>\n",
       "      <th>Chroma10</th>\n",
       "      <th>Chroma11</th>\n",
       "      <th>Chroma12</th>\n",
       "      <th>Chroma_std</th>\n",
       "    </tr>\n",
       "  </thead>\n",
       "  <tbody>\n",
       "    <tr>\n",
       "      <th>0</th>\n",
       "      <td>911Mothers_2010W</td>\n",
       "      <td>0.113023</td>\n",
       "      <td>0.005754</td>\n",
       "      <td>3.277327</td>\n",
       "      <td>0.189827</td>\n",
       "      <td>0.227724</td>\n",
       "      <td>0.822557</td>\n",
       "      <td>0.0</td>\n",
       "      <td>0.120413</td>\n",
       "      <td>-12.967692</td>\n",
       "      <td>...</td>\n",
       "      <td>3.503195e-08</td>\n",
       "      <td>2.970013e-08</td>\n",
       "      <td>1.982383e-08</td>\n",
       "      <td>2.069485e-08</td>\n",
       "      <td>2.393984e-08</td>\n",
       "      <td>1.124012e-08</td>\n",
       "      <td>2.649578e-08</td>\n",
       "      <td>1.287873e-08</td>\n",
       "      <td>1.966733e-08</td>\n",
       "      <td>7.136251e-09</td>\n",
       "    </tr>\n",
       "    <tr>\n",
       "      <th>1</th>\n",
       "      <td>AaronHuey_2010X</td>\n",
       "      <td>0.176971</td>\n",
       "      <td>0.009682</td>\n",
       "      <td>3.313197</td>\n",
       "      <td>0.269473</td>\n",
       "      <td>0.241285</td>\n",
       "      <td>1.752903</td>\n",
       "      <td>0.0</td>\n",
       "      <td>0.314532</td>\n",
       "      <td>-11.446232</td>\n",
       "      <td>...</td>\n",
       "      <td>5.095977e-08</td>\n",
       "      <td>1.899055e-08</td>\n",
       "      <td>3.315040e-08</td>\n",
       "      <td>2.607080e-08</td>\n",
       "      <td>3.798238e-08</td>\n",
       "      <td>5.000089e-08</td>\n",
       "      <td>2.155842e-08</td>\n",
       "      <td>3.693945e-08</td>\n",
       "      <td>6.345455e-08</td>\n",
       "      <td>1.378009e-08</td>\n",
       "    </tr>\n",
       "    <tr>\n",
       "      <th>2</th>\n",
       "      <td>AaronKoblin_2011</td>\n",
       "      <td>0.119979</td>\n",
       "      <td>0.009615</td>\n",
       "      <td>3.311190</td>\n",
       "      <td>0.173705</td>\n",
       "      <td>0.211600</td>\n",
       "      <td>0.536709</td>\n",
       "      <td>0.0</td>\n",
       "      <td>0.093470</td>\n",
       "      <td>-12.408212</td>\n",
       "      <td>...</td>\n",
       "      <td>2.433533e-08</td>\n",
       "      <td>3.022070e-08</td>\n",
       "      <td>4.342009e-08</td>\n",
       "      <td>6.222283e-08</td>\n",
       "      <td>3.830729e-08</td>\n",
       "      <td>2.239378e-08</td>\n",
       "      <td>7.400433e-08</td>\n",
       "      <td>4.938212e-08</td>\n",
       "      <td>7.607457e-08</td>\n",
       "      <td>2.095060e-08</td>\n",
       "    </tr>\n",
       "  </tbody>\n",
       "</table>\n",
       "<p>3 rows × 35 columns</p>\n",
       "</div>"
      ],
      "text/plain": [
       "           fileName       ZCR    Energy  EnergyEntropy  SpectralCentroid  \\\n",
       "0  911Mothers_2010W  0.113023  0.005754       3.277327          0.189827   \n",
       "1   AaronHuey_2010X  0.176971  0.009682       3.313197          0.269473   \n",
       "2  AaronKoblin_2011  0.119979  0.009615       3.311190          0.173705   \n",
       "\n",
       "   SpectralSpread  SpectralEntropy  SpectralFlux  SpectralRollof      mfcc1  \\\n",
       "0        0.227724         0.822557           0.0        0.120413 -12.967692   \n",
       "1        0.241285         1.752903           0.0        0.314532 -11.446232   \n",
       "2        0.211600         0.536709           0.0        0.093470 -12.408212   \n",
       "\n",
       "       ...            Chroma4       Chroma5       Chroma6       Chroma7  \\\n",
       "0      ...       3.503195e-08  2.970013e-08  1.982383e-08  2.069485e-08   \n",
       "1      ...       5.095977e-08  1.899055e-08  3.315040e-08  2.607080e-08   \n",
       "2      ...       2.433533e-08  3.022070e-08  4.342009e-08  6.222283e-08   \n",
       "\n",
       "        Chroma8       Chroma9      Chroma10      Chroma11      Chroma12  \\\n",
       "0  2.393984e-08  1.124012e-08  2.649578e-08  1.287873e-08  1.966733e-08   \n",
       "1  3.798238e-08  5.000089e-08  2.155842e-08  3.693945e-08  6.345455e-08   \n",
       "2  3.830729e-08  2.239378e-08  7.400433e-08  4.938212e-08  7.607457e-08   \n",
       "\n",
       "     Chroma_std  \n",
       "0  7.136251e-09  \n",
       "1  1.378009e-08  \n",
       "2  2.095060e-08  \n",
       "\n",
       "[3 rows x 35 columns]"
      ]
     },
     "execution_count": 54,
     "metadata": {},
     "output_type": "execute_result"
    }
   ],
   "source": [
    "audioTempDf.head(3)"
   ]
  },
  {
   "cell_type": "markdown",
   "metadata": {},
   "source": [
    "## Merge metadata and audioTempDf"
   ]
  },
  {
   "cell_type": "code",
   "execution_count": 55,
   "metadata": {},
   "outputs": [
    {
     "name": "stdout",
     "output_type": "stream",
     "text": [
      "(1331, 86)\n"
     ]
    },
    {
     "data": {
      "text/html": [
       "<div>\n",
       "<style scoped>\n",
       "    .dataframe tbody tr th:only-of-type {\n",
       "        vertical-align: middle;\n",
       "    }\n",
       "\n",
       "    .dataframe tbody tr th {\n",
       "        vertical-align: top;\n",
       "    }\n",
       "\n",
       "    .dataframe thead th {\n",
       "        text-align: right;\n",
       "    }\n",
       "</style>\n",
       "<table border=\"1\" class=\"dataframe\">\n",
       "  <thead>\n",
       "    <tr style=\"text-align: right;\">\n",
       "      <th></th>\n",
       "      <th>comments</th>\n",
       "      <th>description</th>\n",
       "      <th>duration</th>\n",
       "      <th>event</th>\n",
       "      <th>film_date</th>\n",
       "      <th>languages</th>\n",
       "      <th>main_speaker</th>\n",
       "      <th>name</th>\n",
       "      <th>num_speaker</th>\n",
       "      <th>published_date</th>\n",
       "      <th>...</th>\n",
       "      <th>Chroma4</th>\n",
       "      <th>Chroma5</th>\n",
       "      <th>Chroma6</th>\n",
       "      <th>Chroma7</th>\n",
       "      <th>Chroma8</th>\n",
       "      <th>Chroma9</th>\n",
       "      <th>Chroma10</th>\n",
       "      <th>Chroma11</th>\n",
       "      <th>Chroma12</th>\n",
       "      <th>Chroma_std</th>\n",
       "    </tr>\n",
       "  </thead>\n",
       "  <tbody>\n",
       "    <tr>\n",
       "      <th>0</th>\n",
       "      <td>265</td>\n",
       "      <td>With the same humor and humanity he exuded in ...</td>\n",
       "      <td>16.3</td>\n",
       "      <td>TED2006</td>\n",
       "      <td>24-02-2006</td>\n",
       "      <td>43</td>\n",
       "      <td>Al Gore</td>\n",
       "      <td>Al Gore: Averting the climate crisis</td>\n",
       "      <td>1</td>\n",
       "      <td>26-06-2006</td>\n",
       "      <td>...</td>\n",
       "      <td>4.634894e-09</td>\n",
       "      <td>4.745749e-09</td>\n",
       "      <td>6.511980e-09</td>\n",
       "      <td>1.140154e-08</td>\n",
       "      <td>1.409230e-09</td>\n",
       "      <td>6.197927e-09</td>\n",
       "      <td>5.474536e-09</td>\n",
       "      <td>5.192200e-09</td>\n",
       "      <td>8.241688e-09</td>\n",
       "      <td>2.768378e-09</td>\n",
       "    </tr>\n",
       "  </tbody>\n",
       "</table>\n",
       "<p>1 rows × 86 columns</p>\n",
       "</div>"
      ],
      "text/plain": [
       "   comments                                        description  duration  \\\n",
       "0       265  With the same humor and humanity he exuded in ...      16.3   \n",
       "\n",
       "     event   film_date  languages main_speaker  \\\n",
       "0  TED2006  24-02-2006         43      Al Gore   \n",
       "\n",
       "                                   name  num_speaker published_date  \\\n",
       "0  Al Gore: Averting the climate crisis            1     26-06-2006   \n",
       "\n",
       "       ...            Chroma4       Chroma5       Chroma6       Chroma7  \\\n",
       "0      ...       4.634894e-09  4.745749e-09  6.511980e-09  1.140154e-08   \n",
       "\n",
       "        Chroma8       Chroma9      Chroma10      Chroma11      Chroma12  \\\n",
       "0  1.409230e-09  6.197927e-09  5.474536e-09  5.192200e-09  8.241688e-09   \n",
       "\n",
       "     Chroma_std  \n",
       "0  2.768378e-09  \n",
       "\n",
       "[1 rows x 86 columns]"
      ]
     },
     "execution_count": 55,
     "metadata": {},
     "output_type": "execute_result"
    }
   ],
   "source": [
    "#Merge audio with metadata df\n",
    "mergedDf = pd.merge(df, audioTempDf, on='fileName')\n",
    "print(mergedDf.shape)\n",
    "mergedDf.head(1)"
   ]
  },
  {
   "cell_type": "markdown",
   "metadata": {},
   "source": [
    "# Write to file"
   ]
  },
  {
   "cell_type": "code",
   "execution_count": 56,
   "metadata": {
    "collapsed": true
   },
   "outputs": [],
   "source": [
    "# This data is meta and audio\n",
    "mergedDf.to_csv('data/meta_audio.csv')"
   ]
  },
  {
   "cell_type": "code",
   "execution_count": 58,
   "metadata": {},
   "outputs": [
    {
     "data": {
      "text/plain": [
       "Index(['comments', 'description', 'duration', 'event', 'film_date',\n",
       "       'languages', 'main_speaker', 'name', 'num_speaker', 'published_date',\n",
       "       'ratings', 'related_talks', 'speaker_occupation', 'tags', 'title',\n",
       "       'url', 'views', 'link', 'annualTED', 'film_year', 'published_year',\n",
       "       'num_speaker_talks', 'technology', 'science', 'global issues',\n",
       "       'culture', 'design', 'business', 'entertainment', 'health',\n",
       "       'innovation', 'society', 'Fascinating', 'Courageous', 'Longwinded',\n",
       "       'Obnoxious', 'Jaw-dropping', 'Inspiring', 'OK', 'Beautiful', 'Funny',\n",
       "       'Unconvincing', 'Ingenious', 'Informative', 'Confusing', 'Persuasive',\n",
       "       'wpm', 'words_per_min', 'first_name', 'gender_name',\n",
       "       'gender_name_class', 'fileName', 'ZCR', 'Energy', 'EnergyEntropy',\n",
       "       'SpectralCentroid', 'SpectralSpread', 'SpectralEntropy', 'SpectralFlux',\n",
       "       'SpectralRollof', 'mfcc1', 'mfcc2', 'mfcc3', 'mfcc4', 'mfccC5', 'mfcc6',\n",
       "       'mfcc7', 'mfcc8', 'mfcc9', 'mfcc10', 'mfcc11', 'mfcc12', 'mfcc13',\n",
       "       'Chroma1', 'Chroma2', 'Chroma3', 'Chroma4', 'Chroma5', 'Chroma6',\n",
       "       'Chroma7', 'Chroma8', 'Chroma9', 'Chroma10', 'Chroma11', 'Chroma12',\n",
       "       'Chroma_std'],\n",
       "      dtype='object')"
      ]
     },
     "execution_count": 58,
     "metadata": {},
     "output_type": "execute_result"
    }
   ],
   "source": [
    "mergedDf.columns"
   ]
  },
  {
   "cell_type": "markdown",
   "metadata": {
    "collapsed": true
   },
   "source": [
    "# Summary\n",
    "\n",
    "meta_audio.csv contains all the metadata, enhanced with several new features, and all the audio features for all the available audio files. \n",
    "\n",
    "The audio features come from 4 minute audio segments of each talk.\n",
    "\n",
    "The transcripts are at 'data/ted-talks/transcripts.csv' and can be matched with the rest of the data based on the 'url' column."
   ]
  }
 ],
 "metadata": {
  "kernelspec": {
   "display_name": "Python 3",
   "language": "python",
   "name": "python3"
  },
  "language_info": {
   "codemirror_mode": {
    "name": "ipython",
    "version": 3
   },
   "file_extension": ".py",
   "mimetype": "text/x-python",
   "name": "python",
   "nbconvert_exporter": "python",
   "pygments_lexer": "ipython3",
   "version": "3.6.3"
  },
  "toc": {
   "nav_menu": {},
   "number_sections": true,
   "sideBar": true,
   "skip_h1_title": false,
   "title_cell": "Table of Contents",
   "title_sidebar": "Contents",
   "toc_cell": false,
   "toc_position": {},
   "toc_section_display": true,
   "toc_window_display": true
  }
 },
 "nbformat": 4,
 "nbformat_minor": 2
}
